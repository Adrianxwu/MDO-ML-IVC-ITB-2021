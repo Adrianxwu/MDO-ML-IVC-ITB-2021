{
  "nbformat": 4,
  "nbformat_minor": 0,
  "metadata": {
    "colab": {
      "name": "Tutorial_Gradient_based_Optimization_Students.ipynb",
      "provenance": [],
      "collapsed_sections": [],
      "include_colab_link": true
    },
    "kernelspec": {
      "display_name": "Python 3",
      "name": "python3"
    },
    "language_info": {
      "name": "python"
    }
  },
  "cells": [
    {
      "cell_type": "markdown",
      "metadata": {
        "id": "view-in-github",
        "colab_type": "text"
      },
      "source": [
        "<a href=\"https://colab.research.google.com/github/Adrianxwu/MDO-ML-IVC-ITB-2021/blob/main/Tutorial_Gradient_based_Optimization_Students.ipynb\" target=\"_parent\"><img src=\"https://colab.research.google.com/assets/colab-badge.svg\" alt=\"Open In Colab\"/></a>"
      ]
    },
    {
      "cell_type": "markdown",
      "metadata": {
        "id": "zhpiYf49260g"
      },
      "source": [
        "# **TUTORIAL 1: GRADIENT-BASED OPTIMIZATION TECHNIQUES**\n",
        "**Multidisciplinary Optimization and Machine Learning for Engineering Design International Virtual Course**\n",
        "\n",
        "**19 July - 5 August 2021**\n",
        "\n",
        "Written by: Kemas Zakaria\n",
        "\n",
        "Based on the lecture material by: Koji Shimoyama, Ph.D. (Tohoku University, Japan)\n",
        "\n",
        "\n",
        "\n"
      ]
    },
    {
      "cell_type": "markdown",
      "metadata": {
        "id": "V5UYEJzOWuJQ"
      },
      "source": [
        "Please run the following code first to import all required packages."
      ]
    },
    {
      "cell_type": "code",
      "metadata": {
        "id": "2CybPg5dyCxZ"
      },
      "source": [
        "import numpy as np\n",
        "import matplotlib.pyplot as plt\n"
      ],
      "execution_count": null,
      "outputs": []
    },
    {
      "cell_type": "markdown",
      "metadata": {
        "id": "pZ24dDre6SaT"
      },
      "source": [
        "---\n",
        "---\n",
        "## Quick Review\n",
        "In this section, we will do a quick review of some existing gradient-based techniques. The outline of this section is as follows:\n",
        "\n",
        "*   Gradient Descent Method\n",
        "*   Quasi-Newton Method\n",
        "*   Active Set Method "
      ]
    },
    {
      "cell_type": "markdown",
      "metadata": {
        "id": "qttRZMrc7mvR"
      },
      "source": [
        "---\n",
        "---\n",
        "## Gradient Descent Method\n",
        "The gradient descent method (or also called the steepest descent method) is one of the simplest gradient-based optimization methods. The method uses the first-order derivative to find the nearest local minima of a differentiable function. The general idea is to take repeated steps in the opposite direction of the gradient of the function (hence, the name \"descent\")\n",
        "\n",
        "The formulation of the gradient descent method is as follows:\n",
        "\n",
        "Given the following optimization problem\n",
        "\n",
        "  minimize $f(\\mathbf{x})$\n",
        "\n",
        "  over $ \\mathbf{x} \\in \\mathbb{R}^n$\n",
        "\n",
        "where $ f: \\mathbb{R}^n \\rightarrow \\mathbb{R} $ is the objective function that maps input variables to the objective value. Note that no constraint is involved. The iterative steps in the gradient descent method is computed as follows:\n",
        "\n",
        " $\\mathbf{x}_{k+1} = \\mathbf{x}_{k} - \\alpha \\nabla f(\\mathbf{x}_k) $ \n",
        "\n",
        "where $k$ is the iteration index of the optimization process and $\\alpha$ is the learning rate of the optimization process. One important thing to notice is the negative sign given to the first derivative. The negative sign ensures that the iterative steps are performed so that process approaches the nearest local minimum. The learning rate $\\alpha$ here indicates how large the steps are taken during the optimization process. Starting from an initial guess $\\mathbf{x}_0$, at each iteration the value of $f(\\mathbf{x}_k)$ will approach the actual value of a local minimum in the function.\n",
        "\n",
        "\n"
      ]
    },
    {
      "cell_type": "markdown",
      "metadata": {
        "id": "yHTihmWOoH5P"
      },
      "source": [
        "---\n",
        "---\n",
        "### Gradient Descent Method Code\n",
        "\n",
        "In this section, we are going to use python to perform the gradient descent method on analytical problems. The nice thing is that we can visualize the optimization process so you can observe how the method descends toward the optimum point."
      ]
    },
    {
      "cell_type": "markdown",
      "metadata": {
        "id": "dQ_U3wu4udwA"
      },
      "source": [
        "First, please execute the following cell to define our gradient descent method in Python:"
      ]
    },
    {
      "cell_type": "code",
      "metadata": {
        "id": "1thDUQ-7ua3Z"
      },
      "source": [
        "def grad_descent(\n",
        "    grad, initial_point, learn_rate, dimen, n_iter = 100, tol = 1e-06\n",
        "):\n",
        "    x_point = np.zeros(shape=[n_iter, dimen])\n",
        "    x_point[0, :] = initial_point\n",
        "    for i in range(n_iter):\n",
        "      \n",
        "      delta = -learn_rate*grad(x_point[i,:])\n",
        "      \n",
        "      grad_check = np.sum(np.abs(grad(x_point[i, :])))\n",
        "\n",
        "      if (grad_check <= tol) or i == n_iter-1:\n",
        "        \n",
        "        class result:\n",
        "          def __init__(self):\n",
        "            self.opt_x = x_point[i,:].reshape([1,dimen])\n",
        "            self.traject = x_point\n",
        "            self.iter = i+1\n",
        "\n",
        "        def get_result():\n",
        "          return result()\n",
        "\n",
        "        output = get_result()\n",
        "        break\n",
        "      else:\n",
        "        x_point[i+1,:] = x_point[i,:] + delta        \n",
        "      \n",
        "    return output"
      ],
      "execution_count": null,
      "outputs": []
    },
    {
      "cell_type": "markdown",
      "metadata": {
        "id": "wTTfEH_yiNE1"
      },
      "source": [
        "The required inputs for the gradient descent method are the following:\n",
        "\n",
        "\n",
        "1.   The derivative of the problem's function\n",
        "2.   The initial point for optimization\n",
        "3.   The learning rate for optimization\n",
        "4.   The dimensionality of the problem\n",
        "5. The number of iteration performed, or \n",
        "6. The amount tolerance allowed \n",
        "\n",
        "The function will output the optimum point $\\mathbf{x}_{opt}$\n",
        "\n"
      ]
    },
    {
      "cell_type": "markdown",
      "metadata": {
        "id": "1YDFNQst6eSm"
      },
      "source": [
        "---\n",
        "### Examples #1: Parabolic Function\n",
        "The parabolic function is a convex function that has a single optimum (i.e., it is a unimodal function). The purpose of this example is to show how a gradient-based optimization method works in discovering the optimum point. The equation used in this example is $ f(x) = x^{2} $. Remember that the gradient of $x^{2}$ is $df(x)/dx = 2x$, this is the information that you need to apply the gradient descent method.\n",
        "\n",
        "Let's try to solve $f(x) = x^{2}$ using gradient descend by executing the following code:\n",
        "\n",
        "(you can also try varying the initial point and the learning rate to see how they would affect the optimization process)"
      ]
    },
    {
      "cell_type": "code",
      "metadata": {
        "id": "MvYePP7tx8yx",
        "colab": {
          "base_uri": "https://localhost:8080/",
          "height": 466
        },
        "outputId": "958dfadb-da36-4008-bd28-e3c86f903abd"
      },
      "source": [
        "init_x = -4 # Initial solution, the default value is set to init_x = -4\n",
        "\n",
        "# Solving the parabolic problem by using gradient descent\n",
        "# learn_rate is set to 0.05 for the default value\n",
        "output  = grad_descent(\n",
        "    grad=lambda x: 2*x, initial_point=init_x, learn_rate=0.05, n_iter = 1000, dimen = 1\n",
        ")\n",
        "\n",
        "# Preprocessing the result\n",
        "opt_point = output.opt_x\n",
        "traject = output.traject\n",
        "\n",
        "initial_point = init_x\n",
        "opt_f = np.power(opt_point, 2)\n",
        "initial_f = np.power(initial_point, 2)\n",
        "traject_f = np.power(output.traject, 2)\n",
        "\n",
        "print(\"Optimum Value of f(x) and Optimum Point x\")\n",
        "txt_f = \"f(x) = {}\"\n",
        "txt_x = \"x = {}\"\n",
        "print(txt_f.format(opt_f))\n",
        "print(txt_x.format(opt_point))\n",
        "print(\"\\n The blue dot represents the initial point\")\n",
        "print(\"\\n The green dots represent the optimization trajectory\")\n",
        "print(\"\\n The red dot represents the obtained minimum value\")\n",
        "\n",
        "# Plotting the Results\n",
        "Xplot = np.linspace(-8, 8, 30)\n",
        "Yplot = np.power(Xplot, 2)\n",
        "plt.plot(Xplot, Yplot, 'k')\n",
        "plt.plot(output.traject[0:output.iter], traject_f[0:output.iter], 'gx-')\n",
        "plt.plot(initial_point, initial_f, 'bo')\n",
        "plt.plot(opt_point, opt_f, 'ro')\n",
        "plt.rcParams[\"figure.figsize\"] = (10, 6)\n",
        "plt.xlabel(\"x\")\n",
        "plt.ylabel(\"f(x)\")\n",
        "plt.legend(['f(x) = x^{2}','Trajectory','Initial point','Optimum point'])\n",
        "plt.show()\n",
        "\n",
        "print(\"Total Iteration: \")\n",
        "print(output.iter)"
      ],
      "execution_count": null,
      "outputs": [
        {
          "output_type": "stream",
          "text": [
            "Optimum Value of f(x) and Optimum Point x\n",
            "f(x) = [[2.4286103e-13]]\n",
            "x = [[-4.92809325e-07]]\n",
            "\n",
            " The blue dot represents the initial point\n",
            "\n",
            " The green dots represent the optimization trajectory\n",
            "\n",
            " The red dot represents the obtained minimum value\n"
          ],
          "name": "stdout"
        },
        {
          "output_type": "display_data",
          "data": {
            "image/png": "[encoded data removed]",
            "text/plain": [
              "<Figure size 432x288 with 1 Axes>"
            ]
          },
          "metadata": {
            "tags": [],
            "needs_background": "light"
          }
        },
        {
          "output_type": "stream",
          "text": [
            "Total Iteration: \n",
            "152\n"
          ],
          "name": "stdout"
        }
      ]
    },
    {
      "cell_type": "markdown",
      "metadata": {
        "id": "Vvx54N1a8Pg3"
      },
      "source": [
        "---\n",
        "### Examples #2: Rosenbrock Function (2 Dimensional)\n",
        "The Rosenbrock function is a non-convex function firstly introduced by Howard H. Rosenbrock in 1960. This function is a popular test problem for gradient-based optimization algorithms. The Rosenbrock function takes two input variables, that is, $x_{1}$, and $x_{2}$. Even though the function is unimodal, which means that there is only one optimum point, the convergence to the minimum point is notably difficult.\n",
        "\n",
        "The Rosenbrock function is expressed as:\n",
        "\n",
        "$ f(x_{2}, x_{1}) = 100(x_{2} - x_{1}^{2})^{2} + (x_{1} -1 )^{2} $\n",
        "\n",
        "With the input domain usually evaluated at\n",
        "\n",
        "$ x_{1} ∈ [-5,10], x_{2} ∈ [-5,10] $\n",
        "\n",
        "Notice that for the sake of stability, we divide the above equation by a factor of 100.\n",
        "\n",
        "The following cell defines the Rosenbrock function:\n"
      ]
    },
    {
      "cell_type": "code",
      "metadata": {
        "id": "Wz6PFj752xlb"
      },
      "source": [
        "def rosenbrock(x, scale = 100):\n",
        "  x_shape = x.shape\n",
        "  f = np.zeros(shape = [x_shape[0]])\n",
        "  for i in range(x_shape[0]):\n",
        "    f[i] = 100*(x[i,1]-x[i,0]**2)**2 + (x[i,0]-1)**2\n",
        "    f[i] = f[i]/scale\n",
        "  return f"
      ],
      "execution_count": null,
      "outputs": []
    },
    {
      "cell_type": "markdown",
      "metadata": {
        "id": "Gky17lh7JIqc"
      },
      "source": [
        "Since we need gradient information to use the gradient descent method, the derivatives for Rosenbrock are given as follows:\n",
        "\n",
        "$ \\frac{\\partial f}{\\partial x_{1}} = -400x_{1}(x_{2} - x_{1}^{2}) +2(x_{1}-1) $\n",
        "\n",
        "$ \\frac{\\partial f}{\\partial x_{2}} = 200(x_{2} - x_{1}^{2}) $"
      ]
    },
    {
      "cell_type": "code",
      "metadata": {
        "id": "ryHPB1gLMWtw"
      },
      "source": [
        "def grad_rosenbrock(x, scale = 100):\n",
        "\n",
        "  f1 = -400*x[0]*(x[1]-x[0]**2) + 2*(x[0]-1)\n",
        "  f2 = 200*(x[1]-x[0]**2)\n",
        "  df = np.array([f1, f2])\n",
        "  df = df/scale\n",
        "  return df"
      ],
      "execution_count": null,
      "outputs": []
    },
    {
      "cell_type": "markdown",
      "metadata": {
        "id": "CCi-XScVSSX4"
      },
      "source": [
        "Next we are going to find the global minimum of the two-dimensional Rosenbrock function. The global minimum of the Rosenbrock function is located at $ x^{*} = (1,1)$, which yields $f(x^{*}) = 0 $."
      ]
    },
    {
      "cell_type": "code",
      "metadata": {
        "id": "QDCllYelVdwS",
        "colab": {
          "base_uri": "https://localhost:8080/",
          "height": 582
        },
        "outputId": "59cd7b6d-b8d0-427b-ce2f-f36f4ea30ebe"
      },
      "source": [
        "init_x = np.array([5, 5]) # Initial point, the default value is init_x = np.array([5, 5]) \n",
        "\n",
        "# Solving the Rosenbrock problem by using gradient descent\n",
        "# learn_rate is set to 1e-02\n",
        "opt_rosenbrock = grad_descent(\n",
        "    grad = grad_rosenbrock, initial_point = init_x, learn_rate = 1e-02, dimen = 2, n_iter = 10000, tol = 1e-03\n",
        ")\n",
        "\n",
        "# Pre-processing the result\n",
        "opt_x = opt_rosenbrock.opt_x\n",
        "f_rosenbrock = rosenbrock(opt_rosenbrock.opt_x)\n",
        "traject_f = rosenbrock(opt_rosenbrock.traject)\n",
        "df_opt = grad_rosenbrock(opt_x.reshape(2))\n",
        "\n",
        "print(\"Optimum Value of f(x) and Optimum Point x\")\n",
        "txt_f = \"f(x) = {}\"\n",
        "txt_x = \"x = {}\"\n",
        "txt_df_opt = \"df(x) = {}\"\n",
        "print(txt_f.format(f_rosenbrock))\n",
        "print(txt_x.format(opt_rosenbrock.opt_x))\n",
        "print(txt_df_opt.format(df_opt))\n",
        "print(\"\\n The blue dot represents the initial point\")\n",
        "print(\"\\n The yellow dots represent the optimization trajectory\")\n",
        "print(\"\\n The red dot represents the obtained minimum value\")\n",
        "\n",
        "# Plotting the results\n",
        "nplot = 30;\n",
        "X = np.linspace(-10, 10, num=nplot)\n",
        "Y = np.linspace(-10, 10, num=nplot)\n",
        "Xplot, Yplot = np.meshgrid(X, Y)\n",
        "Zplot = np.zeros(shape=[nplot, nplot])\n",
        "\n",
        "\n",
        "for i in range(nplot):\n",
        "  for j in range(nplot):\n",
        "    XY = np.zeros(shape=[1,2])\n",
        "    XY[0,0] = X[i]\n",
        "    XY[0,1] = Y[j]\n",
        "    Zplot[i, j] = rosenbrock(XY)\n",
        "\n",
        "cf = plt.contourf(Xplot, Yplot, Zplot)\n",
        "cbarf = plt.colorbar(cf)\n",
        "plt.plot(opt_rosenbrock.opt_x[0,0], opt_rosenbrock.opt_x[0,1], 'ro')\n",
        "plt.plot(init_x[0], init_x[1] , 'bo')\n",
        "\n",
        "iter = opt_rosenbrock.iter\n",
        "plt.plot(opt_rosenbrock.traject[0:iter,0], opt_rosenbrock.traject[0:iter,1], 'yx-')\n",
        "plt.rcParams[\"figure.figsize\"] = (16, 9)\n",
        "plt.show()\n",
        "\n",
        "print(\"Total Iteration: \")\n",
        "print(opt_rosenbrock.iter)"
      ],
      "execution_count": null,
      "outputs": [
        {
          "output_type": "stream",
          "text": [
            "Optimum Value of f(x) and Optimum Point x\n",
            "f(x) = [0.01237446]\n",
            "x = [[2.11212622 4.4635702 ]]\n",
            "df(x) = [0.00118002 0.00498609]\n",
            "\n",
            " The blue dot represents the initial point\n",
            "\n",
            " The yellow dots represent the optimization trajectory\n",
            "\n",
            " The red dot represents the obtained minimum value\n"
          ],
          "name": "stdout"
        },
        {
          "output_type": "display_data",
          "data": {
            "image/png": "[encoded data removed]",
            "text/plain": [
              "<Figure size 720x432 with 2 Axes>"
            ]
          },
          "metadata": {
            "tags": [],
            "needs_background": "light"
          }
        },
        {
          "output_type": "stream",
          "text": [
            "Total Iteration: \n",
            "10000\n"
          ],
          "name": "stdout"
        }
      ]
    },
    {
      "cell_type": "markdown",
      "metadata": {
        "id": "d0hYVI9E3LYN"
      },
      "source": [
        "Can you find the global optimum? Looks a bit hard, wasn't it?"
      ]
    },
    {
      "cell_type": "markdown",
      "metadata": {
        "id": "iKGhO8mb-qzb"
      },
      "source": [
        "---\n",
        "### Examples #3: Styblinski-Tang Function (two-dimensional, multimodal)\n",
        "Styblinski-Tang function will be used to show how initial point determine the optimization results.\n",
        "\n",
        "The Styblinski-Tang Function is expressed as:\n",
        "\n",
        "$ f({x}) = 0.5 \\Sigma_{i=1}^{d} (x_{i}^4 -16x_{i}^2 + 5x_{i} ),$\n",
        "\n",
        "with the input domain is usually defined as follows:\n",
        "\n",
        "$ x_{1, ..., d} ∈ [-5,5]  $\n",
        "\n",
        "The following cell defines the Styblinski-Tang Function in Python:"
      ]
    },
    {
      "cell_type": "code",
      "metadata": {
        "id": "C_qv1pCoCw1d"
      },
      "source": [
        "def styblinski(input, dimen = 2):\n",
        "  input_shape = input.shape\n",
        "\n",
        "  if input.ndim == 1:\n",
        "    nn = input_shape[0]/dimen\n",
        "    \n",
        "    x = input.reshape(int(nn), dimen)\n",
        "  else:\n",
        "    x = input\n",
        "    \n",
        "  x_shape = x.shape\n",
        "  f = np.zeros(shape = [x_shape[0]])\n",
        "  for i in range(x_shape[0]):\n",
        "    temp = 0\n",
        "    for j in range(x_shape[1]):\n",
        "      temp = temp + x[i,j]**4 - 16*x[i,j]**2 + 5*x[i,j]\n",
        "    f[i] = temp/2\n",
        "\n",
        "  return f"
      ],
      "execution_count": null,
      "outputs": []
    },
    {
      "cell_type": "markdown",
      "metadata": {
        "id": "yRb5jW0jNwJF"
      },
      "source": [
        "Since we need gradient information to use gradient descent method, the derivatives for Styblinski-Tang are given as follows:\n",
        "\n",
        "$ \\frac{\\partial f}{\\partial x_{i}} = 0.5(4 x_{i}^3 - 32x_{i} + 5) $\n",
        "\n"
      ]
    },
    {
      "cell_type": "code",
      "metadata": {
        "id": "hTpQmGAfPAVo",
        "colab": {
          "base_uri": "https://localhost:8080/"
        },
        "outputId": "38b469b4-3d05-481c-c9df-7891139a7bcb"
      },
      "source": [
        "def grad_styblinski(input, dimen = 2):\n",
        "  x_shape = input.shape\n",
        "  \n",
        "  x = input.reshape(dimen)\n",
        "\n",
        "  df = np.zeros(shape = [x_shape[0], dimen])\n",
        "\n",
        "  for i in range(x_shape[0]):\n",
        "    for j in range(dimen):\n",
        "      df[i,j] = 0.5*(4*x[j]**3 -32*x[j] +5)\n",
        "\n",
        "  output = np.array([df[0, 0], df[0, 1]])\n",
        "  return output\n",
        "\n",
        "# Let's give it a try\n",
        "x = np.array([2.5, 2.5])\n",
        "print(x)\n",
        "dff = grad_styblinski(x)\n",
        "print(dff)"
      ],
      "execution_count": null,
      "outputs": [
        {
          "output_type": "stream",
          "text": [
            "[2.5 2.5]\n",
            "[-6.25 -6.25]\n"
          ],
          "name": "stdout"
        }
      ]
    },
    {
      "cell_type": "markdown",
      "metadata": {
        "id": "Md0sni0WRN8o"
      },
      "source": [
        "Next we are going to find global minimum for this case.\n",
        "\n",
        "The global minimum is located at $ x^{*} = (-2.903435,-2.903435); f(x^{*}) = -78.332331 $, so let's try our gradient descent on this function.\n",
        "\n",
        "For this part, you need to change the initial point (```init_x```), try inputting new values until you find the optimum point."
      ]
    },
    {
      "cell_type": "code",
      "metadata": {
        "id": "GKCQxP7cRoai",
        "colab": {
          "base_uri": "https://localhost:8080/",
          "height": 741
        },
        "outputId": "b98bc79c-007d-4d62-b6c9-6dade88fabbe"
      },
      "source": [
        "init_x = np.array([2,4.5]) # Initial function, the default value is set to init_x = np.array([2,4.5]), try varying this initial point \n",
        "\n",
        "# Solving the Rosenbrock problem by using gradient descent\n",
        "# learn_rate is set to 1e-02\n",
        "opt_sty = grad_descent(\n",
        "    grad = grad_styblinski, initial_point = init_x, learn_rate = 1e-02, dimen = 2, n_iter = 10000, tol = 1e-08\n",
        ")\n",
        "\n",
        "# Pre-processing the results\n",
        "f_sty = styblinski(opt_sty.opt_x)\n",
        "df_sty = grad_styblinski(opt_sty.opt_x)\n",
        "traject_f = styblinski(opt_sty.traject)\n",
        "\n",
        "print(\"Optimum Value of f(x) and Optimum Point x\")\n",
        "txt_f = \"f(x) = {}\"\n",
        "txt_x = \"x = {}\"\n",
        "txt_df_sty = \"df(x) = {}\"\n",
        "print(txt_f.format(f_sty))\n",
        "print(txt_x.format(opt_sty.opt_x))\n",
        "print(txt_df_sty.format(df_sty))\n",
        "print(\"\\n The blue dot represents the initial point\")\n",
        "print(\"\\n The yellow dots represent the optimization trajectory\")\n",
        "print(\"\\n The red dot represents the obtained minimum value\")\n",
        "\n",
        "# Plotting the results\n",
        "nplot = 30;\n",
        "X = np.linspace(-5, 5, num=nplot)\n",
        "Y = np.linspace(-5, 5, num=nplot)\n",
        "Xplot, Yplot = np.meshgrid(X, Y)\n",
        "Zplot = np.zeros(shape=[nplot, nplot])\n",
        "\n",
        "\n",
        "for i in range(nplot):\n",
        "  for j in range(nplot):\n",
        "    XY = np.zeros(shape=[1,2])\n",
        "    XY[0,0] = X[i]\n",
        "    XY[0,1] = Y[j]\n",
        "    Zplot[i, j] = styblinski(XY)\n",
        "\n",
        "cf = plt.contourf(Xplot, Yplot, Zplot, 50)\n",
        "#plt.pcolor(Xplot, Yplot, Zplot,  vmin = -50, vmax = 300)\n",
        "\n",
        "plt.colorbar()\n",
        "plt.plot(opt_sty.traject[0:iter,0], opt_sty.traject[0:iter,1], 'yx-')\n",
        "plt.plot(opt_sty.opt_x[0,0], opt_sty.opt_x[0,1], 'ro')\n",
        "plt.plot(init_x[0], init_x[1], 'bo')\n",
        "iter = opt_sty.iter\n",
        "\n",
        "plt.rcParams[\"figure.figsize\"] = (16, 9)\n",
        "plt.show()\n",
        "\n",
        "print(\"Total Iteration: \")\n",
        "print(iter)"
      ],
      "execution_count": null,
      "outputs": [
        {
          "output_type": "stream",
          "text": [
            "Optimum Value of f(x) and Optimum Point x\n",
            "f(x) = [-50.05889331]\n",
            "x = [[2.74680277 2.74680277]]\n",
            "df(x) = [-5.23813526e-09  1.96013161e-09]\n",
            "\n",
            " The blue dot represents the initial point\n",
            "\n",
            " The yellow dots represent the optimization trajectory\n",
            "\n",
            " The red dot represents the obtained minimum value\n"
          ],
          "name": "stdout"
        },
        {
          "output_type": "display_data",
          "data": {
            "image/png": "[encoded data removed]",
            "text/plain": [
              "<Figure size 1152x648 with 2 Axes>"
            ]
          },
          "metadata": {
            "tags": [],
            "needs_background": "light"
          }
        },
        {
          "output_type": "stream",
          "text": [
            "Total Iteration: \n",
            "67\n"
          ],
          "name": "stdout"
        }
      ]
    },
    {
      "cell_type": "markdown",
      "metadata": {
        "id": "Z9hPWEpAl3lc"
      },
      "source": [
        "---\n",
        "---\n",
        "## Quasi-Newton Method\n",
        "Before we start introducing the Quasi-Newton method, let's take look at Newton's method first. Newton's method, or also known as the Newton-Rhapson method, is a method to find roots (or zeroes) of a real-valued function by exploiting the first derivative of the function. The Newton's method can be formulated as follows:\n",
        "\n",
        "Given the function $f(\\mathbf{x})$ and initial guess $\\mathbf{x}_0$, we can find the roots of function $f(\\mathbf{x})$ by repeating the following steps.\n",
        "\n",
        "$ \\mathbf{x}_{k+1} = \\mathbf{x}_{k} - \\mathbf{J}_f(\\mathbf{x}_k)^{-1} f(\\mathbf{x}_k) $\n",
        "\n",
        "where $\\mathbf{J}_f$ is the jacobian matrix of function $f(\\mathbf{x})$ and $k$ is the iteration indices which starts at $k= 0$.\n",
        "\n",
        "You might notice that the Newton's method is not an optimization method per se, but rather a root-finding method of a function. However, since the local minima of a function are located in zero-valued derivatives, we can change the above formulation to find the roots of the derivatives, instead of the roots of the initial function. The formulation of this problem becomes\n",
        "\n",
        "$\\mathbf{x}_{k+1} = \\mathbf{x}_{k} - \\mathbf{H}_f(\\mathbf{x}_k)^{-1} \\nabla f(\\mathbf{x}_k) $\n",
        "\n",
        "where $\\mathbf{H}_f$ is the Hessian matrix of function $f(\\mathbf{x})$ and $ \\nabla f(\\mathbf{x}) $ is the gradient vector of function $f(\\mathbf{x})$. So it is clear that instead of finding roots of the function, we are going to obtain the roots (or zeroes) of the derivatives of the function.\n",
        "\n",
        "It is obvious from the formulation that the second derivatives of the function are required to compute the Hessian matrix. This problem, in itself, is quite computationally exhausting and not always available in practice. So in this case, we are going to introduce a matrix $\\mathbf{B}$ as an approximation of Hessian matrix. The inverse of approximation matrix $\\mathbf{B}$ is as follows:\n",
        "\n",
        "$ \\mathbf{B}^{-1}_{k+1} = (\\mathbf{I} - \\frac{\\Delta \\mathbf{x}_k \\mathbf{y}^{T}_k }{ \\mathbf{y}^T_k \\Delta \\mathbf{x}_k } ) \\mathbf{B}^{-1}_k (\\mathbf{I} - \\frac{\\mathbf{y}_k \\Delta \\mathbf{x}^{T}_k }{ \\mathbf{y}^T_k \\Delta \\mathbf{x}_k } ) + \\frac{\\Delta \\mathbf{x}_{k} \\Delta \\mathbf{x}^T_k} { \\mathbf{y}^T_k \\Delta \\mathbf{x}_k } $ \n",
        "\n",
        "where\n",
        "\n",
        "$ \\mathbf{y}_k = \\nabla f (\\mathbf{x}_{k+1} ) - \\nabla f( \\mathbf{x}_k ) $\n",
        "\n",
        "The above approximation formula is also known as Broyden-Fletcher-Goldfarb-Shanno (BFGS) formula. Since the Hessian matrix is approximated, hence the name \"Quasi\" in the method. The formulation of the Quasi-Newton method becomes\n",
        "\n",
        "$\\mathbf{x}_{k+1} = \\mathbf{x}_{k} - \\alpha_k \\mathbf{B}_k(\\mathbf{x}_k)^{-1} \\nabla f(\\mathbf{x}_k) $\n",
        "\n",
        "The term $\\alpha_k$ here is analogous to learning rate, but unlike the learning rate term in gradient descent method, there are conditions that needs to be satisfied to guarantee that the approximation matrix $\\mathbf{B}$ to be positive definite, the so-called Wolfie conditions. The Wolfie conditions are defined as follows:\n",
        "\n",
        "1. $ f(\\mathbf{x}_k + \\alpha_{k} \\mathbf{p}_k ) \\leq f(\\mathbf{x}_k) + c_1 \\alpha_k \\mathbf{p}^T_k \\nabla f(\\mathbf{x}_k) $\n",
        "\n",
        "2. $ - \\mathbf{p}^T_k \\nabla f(\\mathbf{x}_k + \\alpha_k \\mathbf{p}_k ) \\leq - c_2 \\mathbf{p}^T_k \\nabla f(\\mathbf{x}_k) $\n",
        "\n",
        "where, in case of Newton's method, then $ \\mathbf{p}_k = \\mathbf{H}^{-1} \\nabla f(\\mathbf{x}_k)$, and $c_1 = 10^{-4}$ and $c_2 = -0.9$. The first inequality is also known as Armijo rule and the second inequality is also known as the curvature condition. \n",
        "\n",
        "The optimal criteria (or also known as the Karush-Kuhn-Tucker condition) for the Quasi-Newton method requires its first derivative to be zero. So if $ \\mathbf{x}^*$ is a local optimum, then $ \\nabla f(\\mathbf{x}^*) = \\mathbf{0} $\n",
        "\n",
        "Now that every mathematical term has been defined properly, all that we need to do is setting up the initial guess for the method. Besides the initial point $\\mathbf{x}_0$, two other terms need to be initially defined, namely, (1) the initial approximation matrix $\\mathbf{B}_0$ and the (2) initial $\\alpha_0$. In most cases, it is sufficient to assume that matrix $\\mathbf{B}_0 = \\mathbf{I}$ and $\\alpha_0 = 1$. The method can be worked from the initial guess and then will converge to the nearest local minima. \n",
        "\n",
        "---\n",
        "---\n"
      ]
    },
    {
      "cell_type": "markdown",
      "metadata": {
        "id": "goea9kz0oEBQ"
      },
      "source": [
        "### Quasi-Newton Method Code\n",
        "\n",
        "The code below is written according to Quasi-Newton method. The required inputs for this method are as follows:\n",
        "\n",
        "1.   The derivative of the problem's function\n",
        "2.   The initial point for optimization\n",
        "3.   The learning rate $\\alpha$ for optimization\n",
        "4.   The number of dimension of the problem\n",
        "5. The number of iteration performed \n",
        "6. The amount of tolerance allowed\n",
        "7. The Hessian approximation of the functon \n",
        "8. The dimension of the problem\n",
        "\n",
        "The following cell defines our Quasi-Netwon Method code:"
      ]
    },
    {
      "cell_type": "code",
      "metadata": {
        "id": "qczuvXEQl6vH"
      },
      "source": [
        "def quasi_newton (\n",
        "    fun, grad, inv_Hessian, initial_point, dimen, n_iter = 100, init_alpha = 1, tol = 1e-03\n",
        "):\n",
        "  x_point = np.zeros(shape = [n_iter, dimen])\n",
        "  x_point[0, :] = initial_point\n",
        "  \n",
        "  for i in range(n_iter):\n",
        "    \n",
        "    F = grad(x_point[i, :].reshape(1,dimen))\n",
        "    Ft = np.transpose(F)\n",
        "    \n",
        "    # compute Hessian inverse\n",
        "    #print(\"Computing Hessian matrix...\")\n",
        "    if i > 0:\n",
        "      \n",
        "      y0 = np.transpose(grad(x_point[i, :].reshape(1,dimen)) - grad(x_point[i-1, :].reshape(1,dimen)))\n",
        "      Jac_inv = inv_Hessian(del_x, y0, H0, dimen)\n",
        "      p0 = -1*Jac_inv.dot(Ft)\n",
        "    else:\n",
        "      Jac_inv = np.identity(dimen)\n",
        "      p0 = -1*Jac_inv.dot(Ft)\n",
        "  \n",
        "    # set alpha\n",
        "    #print(\"Checking alpha for Wolfie conditions...\")\n",
        "    alpha = init_alpha\n",
        "    x0 = x_point[i, :].reshape(1,dimen)\n",
        " \n",
        "    check = check_Wolfie(p0, x0, grad, fun, alpha, dimen)\n",
        "\n",
        "    for k in range(10):\n",
        "      if check == 0:\n",
        "        alpha = 0.5*alpha\n",
        "        check = check_Wolfie(p0, x0, grad, fun, alpha, dimen)\n",
        "      else:\n",
        "        break\n",
        "\n",
        "    # compute search direction\n",
        "    \n",
        "    del_x = alpha*p0\n",
        "    del_x = del_x.reshape(1,dimen)\n",
        "    H0 = Jac_inv\n",
        "\n",
        "    grad_check = np.sum(np.abs(F))\n",
        "\n",
        "    if grad_check <= tol or i == n_iter - 1:\n",
        "\n",
        "      class result:\n",
        "        def __init__(self):\n",
        "          self.opt_x = x_point[i, :].reshape([1, dimen])\n",
        "          self.traject = x_point\n",
        "          self.iter = i+1\n",
        "          self.kkt = grad_check\n",
        "\n",
        "      def get_result():\n",
        "        return result()\n",
        "\n",
        "      output = get_result()\n",
        "      break\n",
        "    else:\n",
        "      x_point[i+1, :] = x_point[i ,:] + del_x\n",
        "\n",
        "  return output\n",
        "\n",
        "def inv_Hessian_BFGS(\n",
        "  del_x, y0, H0, dimen  \n",
        "):\n",
        "\n",
        "  #print(\"Hessian matrix is approximated using BFGS method\")\n",
        "\n",
        "\n",
        "  Id = np.identity(dimen)\n",
        "  term1 = Id - (np.transpose(del_x)*np.transpose(y0))/np.matmul(np.transpose(y0),np.transpose(del_x))\n",
        "\n",
        "  term2 = Id - (y0*del_x)/np.matmul(np.transpose(y0),np.transpose(del_x))\n",
        "\n",
        "  term3 = np.transpose(del_x)*del_x\n",
        "\n",
        "  term5 = np.matmul(np.transpose(y0),np.transpose(del_x))\n",
        "\n",
        "  H1 = term1*(H0*term2) + term3/term5\n",
        "\n",
        "  return H1\n",
        "\n",
        "def check_Wolfie(\n",
        "    p0, x0, grad, fun, alpha, dimen\n",
        "):\n",
        "\n",
        "  # Armijo's Rule\n",
        "  c1 = 1e-04\n",
        "  c2 = 0.9\n",
        "  x1 = x0 + alpha*np.transpose(p0)\n",
        "  \n",
        "\n",
        "  F1 = fun(x1.reshape(1,dimen))\n",
        "  F2 = fun(x0) + c1*alpha*np.matmul(np.transpose(p0),np.transpose(grad(x0)))\n",
        "\n",
        "  # Curvature Condition\n",
        "  T1 = np.matmul(-np.transpose(p0), np.transpose(grad(x1)))\n",
        "  T2 = -c2*np.matmul(np.transpose(p0), np.transpose(grad(x0)))\n",
        "\n",
        "\n",
        "\n",
        "  if F1 <= F2 and T1 <= T2:\n",
        "    check = 1\n",
        "  else:\n",
        "    check = 0\n",
        "  \n",
        "  return check"
      ],
      "execution_count": null,
      "outputs": []
    },
    {
      "cell_type": "markdown",
      "metadata": {
        "id": "ltnacL4t7DIR"
      },
      "source": [
        "---\n",
        "### Example Quasi Newton #1: 2D Parabolic Function\n",
        "\n",
        "Let's revisit the parabolic function, but now we make it as a two-dimensional function. Just like its one-dimensional counterpart, this function only has one critical point, which is its global minimum. The 2D parabolic function is defined below: "
      ]
    },
    {
      "cell_type": "code",
      "metadata": {
        "id": "ziOWQzQ3D2OG",
        "colab": {
          "base_uri": "https://localhost:8080/"
        },
        "outputId": "c2d35f18-989c-4eb5-8fd0-b27e7956fa96"
      },
      "source": [
        "def ND_parabolic(\n",
        "    x, dimen = 2\n",
        "):\n",
        " x_shape = x.shape\n",
        " ns = x_shape[0]\n",
        "\n",
        " f = np.zeros(shape=[ns, 1]) \n",
        " for i in range(ns):\n",
        "   temp = 0\n",
        "   for j in range(dimen):\n",
        "     temp = temp + x[i,j]**2\n",
        "   \n",
        "   f[i, 0] = temp\n",
        "\n",
        " return f\n",
        "\n",
        "# Test\n",
        "x = np.array([[0, 0], [1, 1]])\n",
        "f = ND_parabolic(x)\n",
        "\n",
        "print(x)\n",
        "print(f)"
      ],
      "execution_count": null,
      "outputs": [
        {
          "output_type": "stream",
          "text": [
            "[[0 0]\n",
            " [1 1]]\n",
            "[[0.]\n",
            " [2.]]\n"
          ],
          "name": "stdout"
        }
      ]
    },
    {
      "cell_type": "markdown",
      "metadata": {
        "id": "ZYdPss5PD2rv"
      },
      "source": [
        "The derivatives of the 2D parabolic function is defined below."
      ]
    },
    {
      "cell_type": "code",
      "metadata": {
        "colab": {
          "base_uri": "https://localhost:8080/"
        },
        "id": "hvGExMJmD5EO",
        "outputId": "5f3ce916-62c6-4e02-9b5f-13d141192e34"
      },
      "source": [
        "def grad_NDparabolic(\n",
        "    x, dimen = 2\n",
        "):\n",
        "  x_shape = x.shape\n",
        "  ns = x_shape[0]\n",
        "\n",
        "  df = np.zeros(shape=[ns, dimen])\n",
        "  for i in range(ns):\n",
        "    for j in range(dimen):\n",
        "       df[i,j] = 2*x[i,j]\n",
        "\n",
        "  return df\n",
        "\n",
        "# Test\n",
        "df = grad_NDparabolic(x)\n",
        "print(df)\n"
      ],
      "execution_count": null,
      "outputs": [
        {
          "output_type": "stream",
          "text": [
            "[[0. 0.]\n",
            " [2. 2.]]\n"
          ],
          "name": "stdout"
        }
      ]
    },
    {
      "cell_type": "markdown",
      "metadata": {
        "id": "rdl21yWAD5i8"
      },
      "source": [
        "The global minimum is located at $\\mathbf{x^*} = (0,0)$ and $f(\\mathbf{x}^*) = 0$.\n"
      ]
    },
    {
      "cell_type": "code",
      "metadata": {
        "id": "0axY8OLV7Gk5",
        "colab": {
          "base_uri": "https://localhost:8080/",
          "height": 762
        },
        "outputId": "7496f588-2fbf-4bfc-b791-4c8fa799d48f"
      },
      "source": [
        "init_x = np.array([[-2, 4]]) # Initial point\n",
        "print(init_x)\n",
        "\n",
        "# Run the quasi-Newton algorithm\n",
        "output  = quasi_newton (\n",
        "    fun = ND_parabolic, grad = grad_NDparabolic, inv_Hessian = inv_Hessian_BFGS, initial_point = init_x, dimen = 2, n_iter = 100, init_alpha = 1\n",
        ")\n",
        "\n",
        "fopt = ND_parabolic(output.opt_x)\n",
        "df_opt = grad_NDparabolic(output.opt_x)\n",
        "traject_f = ND_parabolic(output.traject)\n",
        "iter = output.iter\n",
        "\n",
        "fopr = fopt.reshape(1)\n",
        "#traject_f = traject_f.reshape(iter, 2)\n",
        "\n",
        "print(\"Optimum Value of f(x) and Optimum Point x\")\n",
        "txt_f = \"f(x) = {}\"\n",
        "txt_x = \"x = {}\"\n",
        "txt_df_opt = \"df(x) = {}\"\n",
        "print(txt_f.format(fopt))\n",
        "print(txt_x.format(output.opt_x))\n",
        "print(txt_df_opt.format(df_opt))\n",
        "print(\"\\n The blue dot represents the initial point\")\n",
        "print(\"\\n The yellow dots represent the optimization trajectory\")\n",
        "print(\"\\n The red dot represents the obtained minimum value\")\n",
        "\n",
        "# Plotting Results\n",
        "nplot = 30;\n",
        "X = np.linspace(-5, 5, num=nplot)\n",
        "Y = np.linspace(-5, 5, num=nplot)\n",
        "Xplot, Yplot = np.meshgrid(X, Y)\n",
        "Zplot = np.zeros(shape=[nplot, nplot])\n",
        "\n",
        "for i in range(nplot):\n",
        "  for j in range(nplot):\n",
        "    XY = np.zeros(shape=[1,2])\n",
        "    XY[0,0] = X[i]\n",
        "    XY[0,1] = Y[j]\n",
        "    Zplot[i, j] = ND_parabolic(XY)\n",
        "\n",
        "cf = plt.contourf(Xplot, Yplot, Zplot)\n",
        "#plt.pcolor(Xplot, Yplot, Zplot,  vmin = -50, vmax = 300)\n",
        "\n",
        "plt.colorbar()\n",
        "\n",
        "plt.plot(output.traject[0:iter,0], output.traject[0:iter,1], 'yx-')\n",
        "plt.plot(output.opt_x[0,0], output.opt_x[0,1], 'ro')\n",
        "plt.plot(init_x[0,0], init_x[0,1], 'bo')\n",
        "\n",
        "\n",
        "plt.rcParams[\"figure.figsize\"] = (16, 9)\n",
        "plt.show()\n",
        "print(\"Total Iteration\")\n",
        "print(iter)\n",
        "#print(\"Trajectory\")\n",
        "#print(output.traject)\n",
        "\n"
      ],
      "execution_count": null,
      "outputs": [
        {
          "output_type": "stream",
          "text": [
            "[[-2  4]]\n",
            "Optimum Value of f(x) and Optimum Point x\n",
            "f(x) = [[0.]]\n",
            "x = [[0. 0.]]\n",
            "df(x) = [[0. 0.]]\n",
            "\n",
            " The blue dot represents the initial point\n",
            "\n",
            " The yellow dots represent the optimization trajectory\n",
            "\n",
            " The red dot represents the obtained minimum value\n"
          ],
          "name": "stdout"
        },
        {
          "output_type": "display_data",
          "data": {
            "image/png": "[encoded data removed]",
            "text/plain": [
              "<Figure size 1152x648 with 2 Axes>"
            ]
          },
          "metadata": {
            "tags": [],
            "needs_background": "light"
          }
        },
        {
          "output_type": "stream",
          "text": [
            "Total Iteration\n",
            "2\n"
          ],
          "name": "stdout"
        }
      ]
    },
    {
      "cell_type": "markdown",
      "metadata": {
        "id": "vl2k2J3xku_m"
      },
      "source": [
        "---\n",
        "### Example Quasi Newton #2: Branin Function\n",
        "\n",
        "The branin function, or also known as Branin-Hoo function, has three global minima. the function is defined as follows:\n",
        "\n",
        "$ f(\\mathbf{x}) = a (x_2 - bx_1^2 + cx_1 - r)^2 + s(1-t) cos(x_1) + s $\n",
        "\n",
        "where $a = 1, b = 5.1/(4\\pi^2), c = 5/\\pi, r = 6, s = 10, t = 1/(8\\pi) $.\n",
        "\n",
        "The function is usually evaluated at $x_1 \\in [-5, 10], x_2 \\in [0, 15] $. The function is coded below. In this case, we are going to use finite differencing to find gradient of the branin function."
      ]
    },
    {
      "cell_type": "code",
      "metadata": {
        "id": "QMmciCoxk3o6",
        "colab": {
          "base_uri": "https://localhost:8080/"
        },
        "outputId": "55a50264-ffd5-4ff1-864a-2a9823fb2e4d"
      },
      "source": [
        "def Branin(\n",
        "    x, dimen = 2\n",
        "):\n",
        "  x_shape = x.shape\n",
        "  ns = x_shape[0]\n",
        "\n",
        "  f = np.zeros(shape=[ns, 1]) \n",
        "  a = 1\n",
        "  b = 5.1/(4*np.pi**2)\n",
        "  c = 5/np.pi\n",
        "  r = 6\n",
        "  s = 10\n",
        "  t = 1/(8*np.pi)\n",
        "  for i in range(ns):  \n",
        "    f[i, 0] = a*(x[i,1]-b*x[i,0]**2+c*x[i,0]-r)**2 + s*(1-t)*np.cos(x[i,0]) + s\n",
        " \n",
        "  return f\n",
        "\n",
        "x = np.array([[np.pi, 2.275]])\n",
        "f = Branin(x)\n",
        "\n",
        "print(x)\n",
        "print(f)\n",
        "\n",
        "def grad_Branin(\n",
        "    x, dimen = 2\n",
        "):\n",
        "  x_shape = x.shape\n",
        "  ns = x_shape[0]\n",
        "\n",
        "  df = np.zeros(shape=[ns, dimen])\n",
        "  delta = 1e-03\n",
        "  for i in range(ns):\n",
        "    f0 = Branin(x[i, :].reshape(1,2))\n",
        "    x1 = x[i, :] + np.array([delta, 0])\n",
        "    fx1 = Branin(x1.reshape(1,2))\n",
        "    x2 = x[i, :] + np.array([0, delta])\n",
        "    fx2 = Branin(x2.reshape(1,2))\n",
        "    df[i,0] = (fx1-f0)/delta\n",
        "    df[i,1] = (fx2-f0)/delta\n",
        "\n",
        "  return df\n",
        "\n",
        "df = grad_Branin(x)\n",
        "print(df)"
      ],
      "execution_count": null,
      "outputs": [
        {
          "output_type": "stream",
          "text": [
            "[[3.14159265 2.275     ]]\n",
            "[[0.39788736]]\n",
            "[[0.00540903 0.001     ]]\n"
          ],
          "name": "stdout"
        }
      ]
    },
    {
      "cell_type": "markdown",
      "metadata": {
        "id": "VI3FxECGn5KZ"
      },
      "source": [
        "Optimize Branin using Quasi-Newton method. According to references, the three global minima are located at $ \\mathbf{x}^{*} = (-\\pi, 12.275); (\\pi, 2.275); (9.42478, 2.475) $ and $f(\\mathbf{x}^*) = 0.397887 $."
      ]
    },
    {
      "cell_type": "code",
      "metadata": {
        "id": "1uxZ3iT4n8pz",
        "colab": {
          "base_uri": "https://localhost:8080/",
          "height": 762
        },
        "outputId": "efaf4604-eeec-4c6e-f569-e45f653f32e5"
      },
      "source": [
        "init_x = np.array([[9,5]]) #Initial point\n",
        "print(init_x)\n",
        "\n",
        "# Solve the Branin function by using QN method\n",
        "output  = quasi_newton (\n",
        "    fun = Branin, grad = grad_Branin, inv_Hessian = inv_Hessian_BFGS, \n",
        "    initial_point = init_x, dimen = 2, n_iter = 1000, init_alpha = 1\n",
        ")\n",
        "\n",
        "# Post-processing\n",
        "fopt = Branin(output.opt_x)\n",
        "df_opt = grad_Branin(output.opt_x)\n",
        "traject_f = Branin(output.traject)\n",
        "iter = output.iter\n",
        "\n",
        "fopt = fopt.reshape(1)\n",
        "#traject_f = traject_f.reshape(iter, 2)\n",
        "\n",
        "print(\"Optimum Value of f(x) and Optimum Point x\")\n",
        "txt_f = \"f(x) = {}\"\n",
        "txt_x = \"x = {}\"\n",
        "txt_df_opt = \"df(x) = {}\"\n",
        "print(txt_f.format(fopt))\n",
        "print(txt_x.format(output.opt_x))\n",
        "print(txt_df_opt.format(df_opt))\n",
        "print(\"\\n The blue dot represents the initial point\")\n",
        "print(\"\\n The yellow dots represent the optimization trajectory\")\n",
        "print(\"\\n The red dot represents the obtained minimum value\")\n",
        "\n",
        "# Plotting the results\n",
        "nplot = 50;\n",
        "X = np.linspace(-5, 10, num=nplot)\n",
        "Y = np.linspace(0, 15, num=nplot)\n",
        "Xplot, Yplot = np.meshgrid(X, Y)\n",
        "Zplot = np.zeros(shape=[nplot, nplot])\n",
        "\n",
        "for i in range(nplot):\n",
        "  for j in range(nplot):\n",
        "    XY = np.zeros(shape=[1,2])\n",
        "    XY[0,0] = X[i]\n",
        "    XY[0,1] = Y[j]\n",
        "    Zplot[i, j] = Branin(XY)\n",
        "\n",
        "cf = plt.contourf(Xplot, Yplot, Zplot, 25)\n",
        "#plt.pcolor(Xplot, Yplot, Zplot,  vmin = -50, vmax = 300)\n",
        "\n",
        "plt.colorbar()\n",
        "plt.plot(output.traject[0:iter,0], output.traject[0:iter,1], 'yx-')\n",
        "plt.plot(output.opt_x[0,0], output.opt_x[0,1], 'ro')\n",
        "plt.plot(init_x[0,0], init_x[0,1], 'bo')\n",
        "\n",
        "plt.rcParams[\"figure.figsize\"] = (16, 9)\n",
        "plt.show()\n",
        "print(\"Total Iteration\")\n",
        "print(iter)\n"
      ],
      "execution_count": null,
      "outputs": [
        {
          "output_type": "stream",
          "text": [
            "[[9 5]]\n",
            "Optimum Value of f(x) and Optimum Point x\n",
            "f(x) = [0.39788994]\n",
            "x = [[9.42412074 2.47373497]]\n",
            "df(x) = [[ 0.00040078 -0.00042142]]\n",
            "\n",
            " The blue dot represents the initial point\n",
            "\n",
            " The yellow dots represent the optimization trajectory\n",
            "\n",
            " The red dot represents the obtained minimum value\n"
          ],
          "name": "stdout"
        },
        {
          "output_type": "display_data",
          "data": {
            "image/png": "[encoded data removed]",
            "text/plain": [
              "<Figure size 1152x648 with 2 Axes>"
            ]
          },
          "metadata": {
            "tags": [],
            "needs_background": "light"
          }
        },
        {
          "output_type": "stream",
          "text": [
            "Total Iteration\n",
            "17\n"
          ],
          "name": "stdout"
        }
      ]
    },
    {
      "cell_type": "markdown",
      "metadata": {
        "id": "lAk5TNzNnSs8"
      },
      "source": [
        "---\n",
        "### Example Quasi Newton #3: Revisiting Rosenbrock Function\n",
        "\n",
        "As we have known before, the Rosenbrock function is known to be difficult to solve. In this example, we are going to show how \"slow\" the gradient descent method is compared to the Quasi-Newton method. Let's visit our enemy again but now we come with a new weapon.\n",
        "\n",
        "The code below uses the same configuration as the one in the gradient descent method's example (notice that we redefine the Rosenbrock function because now we use a two-dimensional Numpy array)."
      ]
    },
    {
      "cell_type": "code",
      "metadata": {
        "id": "ziExWTGnnU6P",
        "colab": {
          "base_uri": "https://localhost:8080/"
        },
        "outputId": "14ea9311-b46a-40c9-a60a-fddcfffcef65"
      },
      "source": [
        "def rosenbrock_QN(\n",
        "    x, dimen = 2, scale = 100\n",
        "):\n",
        "\n",
        "  x_shape = x.shape\n",
        "  ns = x_shape[0]\n",
        "\n",
        "  f = np.zeros(shape=[ ns, 1])\n",
        "\n",
        "  for i in range(ns):\n",
        "    f[i, 0] = 100*(x[i, 1] - x[i, 0]**2)**2 + (x[i, 0] - 1)**2\n",
        "\n",
        "  f = f/scale\n",
        "  return f\n",
        "\n",
        "def grad_rosenbrock_QN(\n",
        "    x, dimen = 2, scale = 100\n",
        "):\n",
        "\n",
        "  x_shape = x.shape\n",
        "  ns = x_shape[0]\n",
        "\n",
        "  df = np.zeros(shape = [ns, dimen])\n",
        "  \n",
        "  for i in range(ns):\n",
        " \n",
        "    df[i, 0] = -400*x[i, 0]*(x[i, 1]- x[i, 0]**2) + 2*(x[i, 0] - 1)\n",
        "    df[i, 1] = 200*(x[i, 1] - x[i, 0]**2)\n",
        "\n",
        "  df = df/scale\n",
        "  return df\n",
        "\n",
        "xx = np.array([[5, 5]])\n",
        "f = rosenbrock_QN(xx)\n",
        "df = grad_rosenbrock_QN(xx)\n",
        "\n",
        "print(f)\n",
        "print(df)\n"
      ],
      "execution_count": null,
      "outputs": [
        {
          "output_type": "stream",
          "text": [
            "[[40016.]]\n",
            "[[40008. -4000.]]\n"
          ],
          "name": "stdout"
        }
      ]
    },
    {
      "cell_type": "markdown",
      "metadata": {
        "id": "3r8R1zfBnm_N"
      },
      "source": [
        "Now let's solve Rosenbrock function by using the Quasi-Newton method, can you now find the optimal point?:"
      ]
    },
    {
      "cell_type": "code",
      "metadata": {
        "id": "kUKy1d9NnZSf",
        "colab": {
          "base_uri": "https://localhost:8080/",
          "height": 850
        },
        "outputId": "7cea2f77-30fb-476a-8206-fbaea5766005"
      },
      "source": [
        "init_x = np.array([[5, 5]]) # Initial solutions\n",
        "\n",
        "# Solving the Rosenbrock problem with QN\n",
        "output  = quasi_newton (\n",
        "    fun = rosenbrock_QN, grad = grad_rosenbrock_QN, inv_Hessian = inv_Hessian_BFGS, \n",
        "    initial_point = init_x, dimen = 2, n_iter = 1000, init_alpha = 0.1, tol = 1e-6\n",
        ")\n",
        "\n",
        "# Post-processing teh results\n",
        "fopt = rosenbrock_QN(output.opt_x)\n",
        "df_opt = grad_rosenbrock_QN(output.opt_x)\n",
        "traject_f = rosenbrock_QN(output.traject)\n",
        "iter = output.iter\n",
        "\n",
        "fopt = fopt.reshape(1)\n",
        "#traject_f = traject_f.reshape(iter, 2)\n",
        "\n",
        "print(\"Optimum Value of f(x) and Optimum Point x\")\n",
        "txt_f = \"f(x) = {}\"\n",
        "txt_x = \"x = {}\"\n",
        "txt_df_opt = \"df(x) = {}\"\n",
        "print(txt_f.format(fopt))\n",
        "print(txt_x.format(output.opt_x))\n",
        "print(txt_df_opt.format(df_opt))\n",
        "print(\"\\n The blue dot represents the initial point\")\n",
        "print(\"\\n The yellow dots represent the optimization trajectory\")\n",
        "print(\"\\n The red dot represents the obtained minimum value\")\n",
        "\n",
        "# Plotting Results\n",
        "nplot = 50;\n",
        "X = np.linspace(-10, 10, num=nplot)\n",
        "Y = np.linspace(-10, 10, num=nplot)\n",
        "Xplot, Yplot = np.meshgrid(X, Y)\n",
        "Zplot = np.zeros(shape=[nplot, nplot])\n",
        "\n",
        "for i in range(nplot):\n",
        "  for j in range(nplot):\n",
        "    XY = np.zeros(shape=[1,2])\n",
        "    XY[0,0] = X[i]\n",
        "    XY[0,1] = Y[j]\n",
        "    Zplot[i, j] = rosenbrock_QN(XY)\n",
        "\n",
        "cf = plt.contourf(Xplot, Yplot, Zplot)\n",
        "#plt.pcolor(Xplot, Yplot, Zplot,  vmin = -50, vmax = 300)\n",
        "\n",
        "plt.colorbar()\n",
        "plt.plot(output.traject[0:iter,0], output.traject[0:iter,1], 'yx-')\n",
        "plt.plot(output.opt_x[0,0], output.opt_x[0,1], 'ro')\n",
        "plt.plot(init_x[0,0], init_x[0,1], 'bo')\n",
        "\n",
        "plt.rcParams[\"figure.figsize\"] = (16, 9)\n",
        "plt.show()\n",
        "print(\"Total Iteration\")\n",
        "print(iter)\n"
      ],
      "execution_count": null,
      "outputs": [
        {
          "output_type": "stream",
          "text": [
            "/usr/local/lib/python3.7/dist-packages/ipykernel_launcher.py:72: RuntimeWarning: overflow encountered in multiply\n",
            "/usr/local/lib/python3.7/dist-packages/ipykernel_launcher.py:74: RuntimeWarning: overflow encountered in multiply\n",
            "/usr/local/lib/python3.7/dist-packages/ipykernel_launcher.py:72: RuntimeWarning: invalid value encountered in true_divide\n",
            "/usr/local/lib/python3.7/dist-packages/ipykernel_launcher.py:74: RuntimeWarning: invalid value encountered in true_divide\n",
            "/usr/local/lib/python3.7/dist-packages/ipykernel_launcher.py:80: RuntimeWarning: invalid value encountered in true_divide\n"
          ],
          "name": "stderr"
        },
        {
          "output_type": "stream",
          "text": [
            "Optimum Value of f(x) and Optimum Point x\n",
            "f(x) = [nan]\n",
            "x = [[nan nan]]\n",
            "df(x) = [[nan nan]]\n",
            "\n",
            " The blue dot represents the initial point\n",
            "\n",
            " The yellow dots represent the optimization trajectory\n",
            "\n",
            " The red dot represents the obtained minimum value\n"
          ],
          "name": "stdout"
        },
        {
          "output_type": "display_data",
          "data": {
            "image/png": "[encoded data removed]",
            "text/plain": [
              "<Figure size 1152x648 with 2 Axes>"
            ]
          },
          "metadata": {
            "tags": [],
            "needs_background": "light"
          }
        },
        {
          "output_type": "stream",
          "text": [
            "Total Iteration\n",
            "1000\n"
          ],
          "name": "stdout"
        }
      ]
    },
    {
      "cell_type": "markdown",
      "metadata": {
        "id": "UCKGW0ob_8l_"
      },
      "source": [
        "---\n",
        "---\n",
        "## Active Set Method\n",
        "**Reference:** https://optimization.mccormick.northwestern.edu/index.php/Sequential_quadratic_programming\n",
        "\n",
        "It is worth noting that both of our previous methods do not consider any form of constraint at all. However, many problems have constraints, either equality or inequality constraints. In this case, we are now going to explain an optimization method that can solve constrained problems. Consider the following optimization problem:\n",
        "\n",
        "minimize $f(x)$\n",
        "\n",
        "over $ x \\in \\mathbb{R}^n$\n",
        "\n",
        "subject to $\\mathbf{h}(\\mathbf{x}) = \\mathbf{0}, \\mathbf{g}(\\mathbf{x}) \\leq \\mathbf{0} $\n",
        "\n",
        "Recall the Quasi-Newton's method to find local optimum:\n",
        "\n",
        "$\\mathbf{x}_{k+1} = \\mathbf{x}_{k} - \\mathbf{H}_f(\\mathbf{x}_k)^{-1} \\nabla f(\\mathbf{x}_k) $\n",
        "\n",
        "All we need to do is to incorporate constraints into the above equation. To do so, consider the following Lagrangian \n",
        "\n",
        "$ L = f(\\mathbf{x}) + \\Sigma_{i=1}^m  \\lambda_i h_i (\\mathbf{x}) + \\Sigma_{j=1}^l  \\mu_j g_j (\\mathbf{x}) $\n",
        "\n",
        "By incorporating the Lagrange $L$ into the Quasi-Newton's method, we will get\n",
        "\n",
        "$ \\begin{pmatrix} \\mathbf{x}_{k+1} \\\\\\ \\mathbf{\\lambda}_{k+1} \\\\\\ \\mathbf{\\mu}_{k+1} \\end{pmatrix} = \\begin{pmatrix} \\mathbf{x}_{k} \\\\\\ \\mathbf{\\lambda}_{k} \\\\\\ \\mathbf{\\mu}_{k} \\end{pmatrix} + \\alpha_k ( \\nabla^2 L_k ) ^{-1} \\nabla L_k $\n",
        "\n",
        "where\n",
        "\n",
        "$ \\nabla L_k = \\begin{pmatrix} \\nabla f + \\mathbf{\\lambda} \\nabla h + \\mathbf{\\mu} \\nabla g^* \\\\\\ h \\\\\\ g^* \\end{pmatrix}$\n",
        "\n",
        "$  \\nabla^2 L_k  = \\begin{pmatrix} \\mathbf{H}_f & \\nabla h & \\nabla g^* \\\\\\ \\nabla h^T & 0 & 0 \\\\\\ \\nabla g^{*T} & 0 & 0 \\end{pmatrix} $\n",
        "\n",
        "The asterisk $*$ denotes the active inequality constraints during the iteration process. The whole iteration step is analogous to the Quasi-Newton method.\n",
        "\n",
        "In this tutorial, we are going to use the \"Active Set Method\" to handle the constraints. The term \"active constraint\" means that the inequality constraint is violated in the current iteration step, and should be computed in the next iteration. If the inequality constraint is not violated, then it is deemed as \"inactive\" and can be excluded in the next iteration step. Equality constraints on the other hand are always deemed as \"active\" and will always be computed during the iteration process.\n",
        "\n",
        "The term $\\alpha_k$ and Hessian matrix $ \\mathbf{H}_f $ are computed in the same fashion as in the Quasi-Newton method. However, the optimal criteria for a constrained problem are more challenging than non-constrained problems. If $\\mathbf{x}^*$ is a local optimum, then the following conditions should be satisfied.\n",
        "\n",
        "$ \\nabla f(\\mathbf{x}^*) +  \\Sigma_{i=1}^m  \\lambda_i \\nabla h_i (\\mathbf{x}) + \\Sigma_{j=1}^l  \\mu_j \\nabla g_j (\\mathbf{x}) = \\mathbf{0} $\n",
        "\n",
        "and $\\mathbf{h}(\\mathbf{x}) = \\mathbf{0}, \\mathbf{g}(\\mathbf{x}) \\leq \\mathbf{0} $\n",
        "\n",
        "Now that every mathematical term has been defined properly, all that needs to do is setting up the initial guess for the method. All of the initial parameters are set up in a similar fashion with the Quasi-Newton method, but we also need to provide initial values for the Lagrange multipliers $\\lambda$ and $\\mu$. Most of the time, it is sufficient to set 1 as the initial value of the Lagrange multiplier. The method can be worked from the initial guess and then will converge to the nearest local minimum that satisfy the optimal criteria.\n"
      ]
    },
    {
      "cell_type": "markdown",
      "metadata": {
        "id": "gfyXB-fSNIlf"
      },
      "source": [
        "\n",
        "---\n",
        "---\n",
        "### Active Set Method Code\n",
        "\n",
        "In this code, both the constraints and the derivative of the constraints are calculated outside of the main subroutine of the code. Hence it requires more inputs (that is, the constraints values) than the Quasi-Newton methods."
      ]
    },
    {
      "cell_type": "code",
      "metadata": {
        "id": "6UskOdfOAE4H"
      },
      "source": [
        "def Lagrange(\n",
        "    x, fun, grad_fun, eq_cons, ineq_cons, del_eq, del_ineq, B, dimen, num_eq, num_ineq\n",
        "):\n",
        "\n",
        "  #eq_Lcons = eq_cons(x)\n",
        "  #ineq_Lcons = ineq_cons(x)\n",
        "  #assuming linear constraints\n",
        "  #assuming linear constraints\n",
        "\n",
        "  ineq_size = ineq_cons.size\n",
        "  eq_size = eq_cons.size\n",
        "\n",
        "  num_del = dimen+num_eq+num_ineq \n",
        "\n",
        "  del_L = np.zeros(shape=[1, num_del])\n",
        "  xf = x[0, 0:dimen].reshape(1, dimen)\n",
        "  if eq_size > 0:\n",
        "    lamda = x[0, dimen:(dimen+num_eq)].reshape(1, num_eq)\n",
        "  \n",
        "  if ineq_size > 0:\n",
        "    mu = x[0, (dimen+num_eq): (dimen+num_eq+num_ineq)].reshape(1, num_ineq) \n",
        "\n",
        "  del_f = grad_fun(xf)\n",
        "\n",
        "  # first part\n",
        "  temp_del = np.zeros(shape=[1, dimen])\n",
        "  \n",
        "  if ineq_size > 0:\n",
        "    for j in range(ineq_size):\n",
        "      temp_del = temp_del + del_ineq[j, :]*mu[0, j]\n",
        "  \n",
        "  if eq_size > 0:\n",
        "    for j in range(eq_size):\n",
        "      temp_del = temp_del + del_eq[j, :]*lamda[0, j]\n",
        "\n",
        "  del_L[:, 0:dimen] = del_f + temp_del\n",
        "\n",
        "  # second part\n",
        "  if eq_size > 0:\n",
        "    del_L[:, dimen:(dimen+num_eq)] = eq_cons\n",
        "\n",
        "  # third part\n",
        "  if ineq_size > 0:\n",
        "    del_L[:, (dimen+num_eq):(num_del)] = ineq_cons\n",
        "\n",
        "  del2_L = np.zeros(shape = [num_del, num_del])\n",
        "  del2_f = B\n",
        "  \n",
        "  # first part (Hessian)\n",
        "  del2_L[0:dimen, 0:dimen] = del2_f\n",
        "  \n",
        "  # second part (column constraint)\n",
        "\n",
        "  if eq_size > 0:\n",
        "    del2_L[0:dimen, dimen:(dimen+num_eq)] = np.transpose(del_eq)\n",
        "\n",
        "  if ineq_size > 0:\n",
        "    del2_L[0:dimen, (dimen+num_eq):(dimen+num_eq+num_ineq)] = np.transpose(del_ineq)\n",
        "\n",
        "  # third part (row constraint)\n",
        "  if eq_size > 0:  \n",
        "    del2_L[dimen:(dimen+num_eq), 0:dimen] = (del_eq)\n",
        "\n",
        "  if ineq_size > 0:\n",
        "    del2_L[(dimen+num_eq):(dimen+num_eq+num_ineq), 0:dimen] = (del_ineq)\n",
        "\n",
        "  return del_L, del2_L\n",
        "\n",
        "def Active_QN (\n",
        "    fun, grad, Hessian, fun_eq_cons, fun_ineq_cons, grad_eq_cons, grad_ineq_cons, initial_point, dimen, n_iter = 100, init_alpha = 1, tol = 1e-03\n",
        "):\n",
        "\n",
        "  x_point = np.zeros(shape = [n_iter, dimen])\n",
        "  x_point[0, :] = initial_point\n",
        "  \n",
        "  num_eq = fun_eq_cons(initial_point.reshape(1, dimen)).shape[0]\n",
        "  num_ineq = fun_ineq_cons(initial_point.reshape(1, dimen)).shape[0]\n",
        "  num_del = dimen + num_eq + num_ineq\n",
        "\n",
        "  lamda_point = 1*np.ones(shape = [n_iter, num_eq])\n",
        "  mu_point = 1*np.ones(shape = [n_iter, num_ineq])\n",
        "\n",
        "  for i in range(n_iter):\n",
        "\n",
        "    x0 = x_point[i, :].reshape(1, dimen)\n",
        "    lam0 = lamda_point[i, :].reshape(1, num_eq)\n",
        "    mu0 = mu_point[i, :].reshape(1, num_ineq)\n",
        "\n",
        "    lm0 = np.append(lam0, mu0).reshape(1,num_eq+num_ineq)\n",
        "    xk0 = np.append(x0, lm0)\n",
        "    xk0 = xk0.reshape(1, num_del)\n",
        "    # compute Hessian inverse\n",
        "    #print(\"Computing Hessian matrix...\")\n",
        "\n",
        "    #check active inequality constraints\n",
        "    active_set = np.zeros(shape=[num_ineq])\n",
        "    ineq_val = fun_ineq_cons(x0)\n",
        "    \n",
        "    count_active = 0;\n",
        "    for j in range(num_ineq):\n",
        "      if ineq_val[j, 0] > 0:\n",
        "        active_set[j] = 1\n",
        "        count_active = count_active + 1  \n",
        "      \n",
        "    if count_active > 0:\n",
        "        \n",
        "      active_ineq = np.zeros(shape = [count_active])\n",
        "      ineq_cons = fun_ineq_cons(x0)\n",
        "      del_ineq = grad_ineq_cons(x0)\n",
        "      active_del_ineq = np.zeros(shape = [count_active, dimen])\n",
        "      \n",
        "    else:\n",
        "      active_ineq = np.array([])\n",
        "      active_del_ineq = np.array([[]])\n",
        "\n",
        "    ca = 0\n",
        "    for j in range(num_ineq):\n",
        "      if active_set[j] == 1:\n",
        "        active_ineq[ca] = ineq_cons[j]\n",
        "        active_del_ineq[ca, :] = del_ineq[j, :]\n",
        "        ca = ca+1\n",
        "\n",
        "    #equality constraints\n",
        "    eq_cons = fun_eq_cons(x0)\n",
        "    del_eq = grad_eq_cons(x0)\n",
        "\n",
        "    if i > 0:\n",
        "      \n",
        "      y0 = np.transpose(grad(x0) - grad(x_point[i-1, :].reshape(1, dimen)))\n",
        "      #compute lagrange\n",
        "\n",
        "      #compute hessian\n",
        "      B1inv = Hessian(del_x, y0, B0, dimen)\n",
        "      B1 = np.linalg.inv(B1inv)\n",
        "\n",
        "      #compute grad lagrange\n",
        "      \n",
        "      del_L, del2_L = Lagrange(xk0, fun, grad, eq_cons, active_ineq, del_eq, active_del_ineq, B1, dimen, num_eq, count_active)\n",
        "      dLt = np.transpose(del_L)\n",
        "      \n",
        "      pk0 = -1*np.matmul(np.linalg.inv(del2_L), dLt)\n",
        "      \n",
        "    else:\n",
        "      B1 = np.identity(dimen)\n",
        "      \n",
        "      del_L, del2_L = Lagrange(xk0, fun, grad, eq_cons, active_ineq, del_eq, active_del_ineq, B1, dimen, num_eq, count_active)\n",
        "      dLt = np.transpose(del_L)\n",
        "      pk0 = -1*np.matmul(np.linalg.inv(del2_L), dLt)\n",
        "\n",
        "    # set alpha\n",
        "    #print(\"Checking alpha for Wolfie conditions...\")\n",
        "    alpha = init_alpha\n",
        "    p0 = pk0[0:dimen, 0]\n",
        "    check = check_Wolfie(p0, x0, grad, fun, alpha, dimen)\n",
        "\n",
        "    for k in range(10):\n",
        "      if check == 0:\n",
        "        alpha = 0.5*alpha\n",
        "        check = check_Wolfie(p0, x0, grad, fun, alpha, dimen)\n",
        "      else:\n",
        "        break\n",
        "\n",
        "    # compute temporary search direction\n",
        "    \n",
        "    del_xk_temp = alpha*pk0\n",
        "    num_active = num_eq + count_active\n",
        "    del_xk_temp = del_xk_temp.reshape(1, dimen + num_active)\n",
        "    \n",
        "    del_xtemp = del_xk_temp[0, 0:dimen]\n",
        "        \n",
        "    # check feasiblity of the next step\n",
        "    temp_x = del_xtemp + x_point[i, :]\n",
        "    temp_x = temp_x.reshape(1, dimen)\n",
        "    ineq_temp= fun_ineq_cons(temp_x)\n",
        "\n",
        "    count_active = 0;\n",
        "    for j in range(num_ineq):\n",
        "      if ineq_temp[j, 0] > 0:\n",
        "        active_set[j] = 1\n",
        "        count_active = count_active + 1\n",
        "    \n",
        "    # if the next step violates contraint(s), recompute search direction\n",
        "    if count_active > 0:\n",
        "      active_ineq = np.zeros(shape = [count_active])\n",
        "      ineq_cons = fun_ineq_cons(x0)\n",
        "      del_ineq = grad_ineq_cons(x0)\n",
        "      active_del_ineq = np.zeros(shape = [count_active, dimen])\n",
        "\n",
        "      ca = 0\n",
        "      for j in range(num_ineq):\n",
        "        if active_set[j] == 1:\n",
        "          active_ineq[ca] = ineq_cons[j]\n",
        "          active_del_ineq[ca, :] = del_ineq[j, :]\n",
        "          ca = ca+1\n",
        "\n",
        "      eq_cons = fun_eq_cons(x0)\n",
        "      del_eq = grad_eq_cons(x0)\n",
        "\n",
        "      #y0 = np.transpose(grad(temp_x) - grad(x0))\n",
        "      y0 = np.transpose(grad(x0) - grad(x_point[i-1, :].reshape(1, dimen)))\n",
        "      #compute lagrange\n",
        "\n",
        "      #compute hessian\n",
        "      if i == 0:\n",
        "        B1 = np.identity(dimen)\n",
        "      else:\n",
        "        B1inv = Hessian(del_x, y0, B0, dimen)\n",
        "        B1 = np.linalg.inv(B1inv)      \n",
        "\n",
        "      #compute grad lagrange\n",
        "      del_L, del2_L = Lagrange(xk0, fun, grad, eq_cons, active_ineq, del_eq, active_del_ineq, B1, dimen, num_eq, count_active)\n",
        "      dLt = np.transpose(del_L)\n",
        "      \n",
        "      pk0 = -1*np.matmul(np.linalg.inv(del2_L), dLt)\n",
        "\n",
        "      #recompute alpha\n",
        "      alpha = init_alpha\n",
        "      p0 = pk0[0:dimen, 0]\n",
        "      check = check_Wolfie(p0, x0, grad, fun, alpha, dimen)\n",
        "\n",
        "      for k in range(10):\n",
        "        if check == 0:\n",
        "          alpha = 0.5*alpha\n",
        "          check = check_Wolfie(p0, x0, grad, fun, alpha, dimen)\n",
        "        else:\n",
        "          break\n",
        "\n",
        "    #compute the constrained search direction\n",
        "    del_xk = alpha*pk0\n",
        "    num_active = num_eq + count_active\n",
        "    del_xk = del_xk.reshape(1, dimen + num_active)\n",
        "    \n",
        "    del_x = del_xk[0, 0:dimen]\n",
        "\n",
        "    if num_eq > 0:\n",
        "      del_lamda = del_xk[0, dimen:(dimen+num_eq)]\n",
        "\n",
        "    if num_ineq > 0:\n",
        "      if count_active > 0:\n",
        "        del_temp = del_xk[0, (dimen+num_eq):(dimen+num_active)].reshape(1, count_active)\n",
        "        \n",
        "        del_mu = np.zeros(shape = [1, num_ineq])\n",
        "        ca = 0\n",
        "        for j in range(num_ineq):\n",
        "          if active_set[j] == 1:\n",
        "            del_mu[0, j] = del_temp[0, ca]\n",
        "            ca = ca+1\n",
        "\n",
        "      else:\n",
        "        del_mu = np.zeros(shape=[1, num_ineq])\n",
        "\n",
        "\n",
        "    # check optimal criteria and save current updated Hessian apprx.\n",
        "    B0 = B1\n",
        "    grad_check = np.sum(np.abs(del_L))\n",
        "    \n",
        "    if grad_check <= tol or i == n_iter - 1:\n",
        "\n",
        "      class result:\n",
        "        def __init__(self):\n",
        "          self.opt_x = x_point[i, :].reshape([1, dimen])\n",
        "          self.traject = x_point\n",
        "          self.iter = i+1\n",
        "          self.kkt = grad_check\n",
        "          if num_eq > 0:\n",
        "            self.lamda_trj = lamda_point\n",
        "          if num_ineq > 0:\n",
        "            self.mu_trj = mu_point\n",
        "\n",
        "      def get_result():\n",
        "        return result()\n",
        "\n",
        "      output = get_result()\n",
        "      break\n",
        "    else:\n",
        "      x_point[i+1, :] = x_point[i ,:] + del_x\n",
        "\n",
        "      if num_eq > 0:\n",
        "        lamda_point[i+1, :] = lamda_point[i, :] + del_lamda\n",
        "      \n",
        "      if num_ineq > 0:\n",
        "        mu_point[i+1, :] = mu_point[i, :] + del_mu\n",
        "\n",
        "  return output"
      ],
      "execution_count": null,
      "outputs": []
    },
    {
      "cell_type": "markdown",
      "metadata": {
        "id": "EdKGimSfhcFu"
      },
      "source": [
        "---\n",
        "### Example Active Set Method #1: Parabolic Function with Inequality Constraints\n",
        "\n",
        "Given the following parabolic problem:\n",
        "\n",
        "minimize $f(\\mathbf{x}) = x_1^2 + x_2^2 $\n",
        "\n",
        "subject to $ x_1 + x_2 \\leq -2$\n",
        "\n",
        "Notice that we now include an inequality constraint. The unconstrained global optimum without constraint of this function lies outside of the feasible region, so we have to find the feasible optimum solution. We need to first define the inequality constraint:"
      ]
    },
    {
      "cell_type": "code",
      "metadata": {
        "id": "D3_1KXVmniBL"
      },
      "source": [
        "def cons_ineq_1(x):\n",
        "  x_shape = x.shape\n",
        "  ns = x_shape[0]\n",
        "\n",
        "  f = np.zeros(shape=[ns, 1]) \n",
        "  for i in range(ns):\n",
        "    f[i, :] = x[i, 0] + x[i, 1] + 2\n",
        "\n",
        "  return f"
      ],
      "execution_count": null,
      "outputs": []
    },
    {
      "cell_type": "markdown",
      "metadata": {
        "id": "50EN8TfDrzob"
      },
      "source": [
        " and its first derivative"
      ]
    },
    {
      "cell_type": "code",
      "metadata": {
        "id": "QRI83e5IrG5V"
      },
      "source": [
        "def grad_cons_ineq_1(x, dimen = 2):\n",
        "\n",
        "  x_shape = x.shape\n",
        "  ns = x_shape[0]\n",
        "\n",
        "  df = np.zeros(shape=[ns, dimen])\n",
        "  for i in range(ns):\n",
        "    for j in range(dimen):\n",
        "       df[i,j] = 1\n",
        "\n",
        "  return df\n"
      ],
      "execution_count": null,
      "outputs": []
    },
    {
      "cell_type": "markdown",
      "metadata": {
        "id": "srIVcXVT36VX"
      },
      "source": [
        "Because we do not have equality constraints for now, we will set it to an empty array to tell our program that no equality constraints exist."
      ]
    },
    {
      "cell_type": "code",
      "metadata": {
        "id": "oZpY7JCY7lPf"
      },
      "source": [
        "def empty_array(x):\n",
        "  f = np.array([])\n",
        "\n",
        "  return f"
      ],
      "execution_count": null,
      "outputs": []
    },
    {
      "cell_type": "markdown",
      "metadata": {
        "id": "a9_mHMdFr1Fo"
      },
      "source": [
        "All good. Now let's solve the constrained parabolic function:"
      ]
    },
    {
      "cell_type": "code",
      "metadata": {
        "id": "ahSR_fPXGYZR",
        "colab": {
          "base_uri": "https://localhost:8080/",
          "height": 830
        },
        "outputId": "67411173-1fec-42d1-b7a3-217a314c3190"
      },
      "source": [
        "init_x = np.array([[-4, 0]])\n",
        "\n",
        "output  = Active_QN (\n",
        "    fun = ND_parabolic, grad = grad_NDparabolic, Hessian = inv_Hessian_BFGS, \n",
        "    fun_eq_cons = empty_array, fun_ineq_cons = cons_ineq_1, \n",
        "    grad_eq_cons = empty_array, grad_ineq_cons = grad_cons_ineq_1, \n",
        "    initial_point = init_x, dimen = 2, n_iter = 100, init_alpha = 0.05\n",
        ")\n",
        "\n",
        "fopt = ND_parabolic(output.opt_x)\n",
        "df_opt = grad_NDparabolic(output.opt_x)\n",
        "traject_f = ND_parabolic(output.traject)\n",
        "iter = output.iter\n",
        "\n",
        "fopr = fopt.reshape(1)\n",
        "#traject_f = traject_f.reshape(iter, 2)\n",
        "\n",
        "print(\"Optimum Value of f(x) and Optimum Point x\")\n",
        "txt_f = \"f(x) = {}\"\n",
        "txt_x = \"x = {}\"\n",
        "txt_df_opt = \"df(x) = {}\"\n",
        "print(txt_f.format(fopt))\n",
        "print(txt_x.format(output.opt_x))\n",
        "print(txt_df_opt.format(df_opt))\n",
        "print(\"\\n The blue dot represents the initial point\")\n",
        "print(\"\\n The yellow dots represent the optimization trajectory\")\n",
        "print(\"\\n The red dot represents the obtained minimum value\")\n",
        "print(\"\\n The white dot represents the unconstrained optimum\")\n",
        "print(\"\\n The optimal criteria value\")\n",
        "print(output.kkt)\n",
        "\n",
        "# Plotting Results\n",
        "nplot = 30;\n",
        "X = np.linspace(-5, 5, num=nplot)\n",
        "Y = np.linspace(-5, 5, num=nplot)\n",
        "Xplot, Yplot = np.meshgrid(X, Y)\n",
        "Zplot = np.zeros(shape=[nplot, nplot])\n",
        "\n",
        "for i in range(nplot):\n",
        "  for j in range(nplot):\n",
        "    XY = np.zeros(shape=[1,2])\n",
        "    XY[0,0] = X[i]\n",
        "    XY[0,1] = Y[j]\n",
        "    Zplot[i, j] = ND_parabolic(XY)\n",
        "\n",
        "cf = plt.contourf(Xplot, Yplot, Zplot)\n",
        "#plt.pcolor(Xplot, Yplot, Zplot,  vmin = -50, vmax = 300)\n",
        "\n",
        "plt.colorbar()\n",
        "\n",
        "plt.plot(output.traject[0:iter,0], output.traject[0:iter,1], 'yx-')\n",
        "plt.plot(output.opt_x[0,0], output.opt_x[0,1], 'ro')\n",
        "plt.plot(init_x[0,0], init_x[0,1], 'bo')\n",
        "plt.plot(0, 0, 'wo')\n",
        "\n",
        "#plot constraints\n",
        "xcons = np.array([[-5, 3], [3, -5]])\n",
        "\n",
        "plt.plot(xcons[:, 0], xcons[:, 1], 'r')\n",
        "\n",
        "\n",
        "plt.rcParams[\"figure.figsize\"] = (16, 9)\n",
        "plt.text(-3, -3, \"Feasible region\", fontsize=16)\n",
        "plt.text(2, 2, \"Infeasible region\", fontsize=16)\n",
        "plt.show()\n",
        "print(\"Total Iteration\")\n",
        "print(iter)\n",
        "\n",
        "#print(\"Trajectory\")\n",
        "#print(output.traject)\n"
      ],
      "execution_count": null,
      "outputs": [
        {
          "output_type": "stream",
          "text": [
            "Optimum Value of f(x) and Optimum Point x\n",
            "f(x) = [[2.80930024]]\n",
            "x = [[-1.63569967 -0.36576883]]\n",
            "df(x) = [[-3.27139934 -0.73153767]]\n",
            "\n",
            " The blue dot represents the initial point\n",
            "\n",
            " The yellow dots represent the optimization trajectory\n",
            "\n",
            " The red dot represents the obtained minimum value\n",
            "\n",
            " The white dot represents the unconstrained optimum\n",
            "\n",
            " The optimal criteria value\n",
            "2.5413301726467084\n"
          ],
          "name": "stdout"
        },
        {
          "output_type": "display_data",
          "data": {
            "image/png": "[encoded data removed]",
            "text/plain": [
              "<Figure size 1152x648 with 2 Axes>"
            ]
          },
          "metadata": {
            "tags": [],
            "needs_background": "light"
          }
        },
        {
          "output_type": "stream",
          "text": [
            "Total Iteration\n",
            "100\n"
          ],
          "name": "stdout"
        }
      ]
    },
    {
      "cell_type": "markdown",
      "metadata": {
        "id": "TXzy4-GBlUU1"
      },
      "source": [
        "---\n",
        "### Example Active Set Method #2: Parabolic Function with Inequality Constraints (different constraint):\n",
        "\n",
        "Given the following problem\n",
        "\n",
        "minimize $f(\\mathbf{x}) = x_1^2 + x_2^2 $\n",
        "\n",
        "subject to $ x_1 + x_2 \\leq 2$\n",
        "\n",
        "The global optimum without constraint lies within of the feasible region. Notice that we change the threshold for the inequality constraint. Therefore the global optimum is the same with that of the unconstrained parabolic function. Execute the following cell to create our new constraint:"
      ]
    },
    {
      "cell_type": "code",
      "metadata": {
        "id": "4erS-CXbazP3"
      },
      "source": [
        "def cons_ineq_2(x):\n",
        "  x_shape = x.shape\n",
        "  ns = x_shape[0]\n",
        "\n",
        "  f = np.zeros(shape=[ns, 1]) \n",
        "  for i in range(ns):\n",
        "    f[i, :] = x[i, 0] + x[i, 1] - 2\n",
        "  return f"
      ],
      "execution_count": null,
      "outputs": []
    },
    {
      "cell_type": "markdown",
      "metadata": {
        "id": "ZUBrtQ_EtClY"
      },
      "source": [
        "And solve it:"
      ]
    },
    {
      "cell_type": "code",
      "metadata": {
        "id": "ah0e0q5_lnHg",
        "colab": {
          "base_uri": "https://localhost:8080/",
          "height": 830
        },
        "outputId": "def961bd-ccde-4d72-cffa-f3d455fd6f7e"
      },
      "source": [
        "init_x = np.array([[-4, -4]]) # Initial solution\n",
        "\n",
        "# Solving the parabolic problem with QN method\n",
        "output  = Active_QN (\n",
        "    fun = ND_parabolic, grad = grad_NDparabolic, Hessian = inv_Hessian_BFGS, \n",
        "    fun_eq_cons = empty_array, fun_ineq_cons = cons_ineq_2, \n",
        "    grad_eq_cons = empty_array, grad_ineq_cons = grad_cons_ineq_1, \n",
        "    initial_point = init_x, dimen = 2, n_iter = 1000, init_alpha = 0.5\n",
        ")\n",
        "\n",
        "# Post-processing\n",
        "fopt = ND_parabolic(output.opt_x)\n",
        "df_opt = grad_NDparabolic(output.opt_x)\n",
        "traject_f = ND_parabolic(output.traject)\n",
        "iter = output.iter\n",
        "\n",
        "fopr = fopt.reshape(1)\n",
        "#traject_f = traject_f.reshape(iter, 2)\n",
        "\n",
        "print(\"Optimum Value of f(x) and Optimum Point x\")\n",
        "txt_f = \"f(x) = {}\"\n",
        "txt_x = \"x = {}\"\n",
        "txt_df_opt = \"df(x) = {}\"\n",
        "print(txt_f.format(fopt))\n",
        "print(txt_x.format(output.opt_x))\n",
        "print(txt_df_opt.format(df_opt))\n",
        "print(\"\\n The blue dot represents the initial point\")\n",
        "print(\"\\n The yellow dots represent the optimization trajectory\")\n",
        "print(\"\\n The red dot represents the obtained minimum value\")\n",
        "print(\"\\n The white dot represents the unconstrained optimum\")\n",
        "\n",
        "print(\"\\n The optimal criteria value\")\n",
        "print(output.kkt)\n",
        "\n",
        "# Plotting Results\n",
        "nplot = 30;\n",
        "X = np.linspace(-5, 5, num=nplot)\n",
        "Y = np.linspace(-5, 5, num=nplot)\n",
        "Xplot, Yplot = np.meshgrid(X, Y)\n",
        "Zplot = np.zeros(shape=[nplot, nplot])\n",
        "\n",
        "for i in range(nplot):\n",
        "  for j in range(nplot):\n",
        "    XY = np.zeros(shape=[1,2])\n",
        "    XY[0,0] = X[i]\n",
        "    XY[0,1] = Y[j]\n",
        "    Zplot[i, j] = ND_parabolic(XY)\n",
        "\n",
        "cf = plt.contourf(Xplot, Yplot, Zplot)\n",
        "#plt.pcolor(Xplot, Yplot, Zplot,  vmin = -50, vmax = 300)\n",
        "\n",
        "plt.colorbar()\n",
        "plt.plot(0, 0, 'wo')\n",
        "plt.plot(output.traject[0:iter,0], output.traject[0:iter,1], 'yx-')\n",
        "plt.plot(output.opt_x[0,0], output.opt_x[0,1], 'ro')\n",
        "plt.plot(init_x[0,0], init_x[0,1], 'bo')\n",
        "\n",
        "\n",
        "#plot constraints\n",
        "xcons = np.array([[5, -3], [-3, 5]])\n",
        "plt.plot(xcons[:, 0], xcons[:, 1], 'r')\n",
        "plt.rcParams[\"figure.figsize\"] = (16, 9)\n",
        "plt.text(-3, -3, \"Feasible region\", fontsize=16)\n",
        "plt.text(3, 3, \"Infeasible region\", fontsize=16)\n",
        "plt.show()\n",
        "print(\"Total Iteration\")\n",
        "print(iter)\n",
        "\n",
        "#print(\"Trajectory\")\n",
        "#print(output.traject)\n"
      ],
      "execution_count": null,
      "outputs": [
        {
          "output_type": "stream",
          "text": [
            "Optimum Value of f(x) and Optimum Point x\n",
            "f(x) = [[0.]]\n",
            "x = [[0. 0.]]\n",
            "df(x) = [[0. 0.]]\n",
            "\n",
            " The blue dot represents the initial point\n",
            "\n",
            " The yellow dots represent the optimization trajectory\n",
            "\n",
            " The red dot represents the obtained minimum value\n",
            "\n",
            " The white dot represents the unconstrained optimum\n",
            "\n",
            " The optimal criteria value\n",
            "0.0\n"
          ],
          "name": "stdout"
        },
        {
          "output_type": "display_data",
          "data": {
            "image/png": "[encoded data removed]",
            "text/plain": [
              "<Figure size 1152x648 with 2 Axes>"
            ]
          },
          "metadata": {
            "tags": [],
            "needs_background": "light"
          }
        },
        {
          "output_type": "stream",
          "text": [
            "Total Iteration\n",
            "2\n"
          ],
          "name": "stdout"
        }
      ]
    },
    {
      "cell_type": "markdown",
      "metadata": {
        "id": "XBlwXTNMnWXa"
      },
      "source": [
        "---\n",
        "### Example SQP #3: Parabolic Function with Equality Constraints\n",
        "Now let's try something different, how about if we solve a problem with equality constraint?\n",
        "\n",
        "Given the following problem:\n",
        "\n",
        "minimize $f(\\mathbf{x}) = x_1^2 + x_2^2 $\n",
        "\n",
        "subject to $ x_1 + x_2 = 1$\n",
        "\n",
        "In this case the constraint is set to equality constraint"
      ]
    },
    {
      "cell_type": "code",
      "metadata": {
        "id": "hR8RzFDbnsTY"
      },
      "source": [
        "def cons_eq_1(x):\n",
        "  x_shape = x.shape\n",
        "  ns = x_shape[0]\n",
        "\n",
        "  f = np.zeros(shape=[ns, 1]) \n",
        "  for i in range(ns):\n",
        "    f[i, :] = x[i, 0] + x[i, 1] - 1\n",
        "\n",
        "  return f\n",
        "\n",
        "def grad_cons_eq_1(x, dimen = 2):\n",
        "\n",
        "  x_shape = x.shape\n",
        "  ns = x_shape[0]\n",
        "\n",
        "  df = np.zeros(shape=[ns, dimen])\n",
        "  for i in range(ns):\n",
        "    for j in range(dimen):\n",
        "       df[i,j] = 1\n",
        "\n",
        "  return df"
      ],
      "execution_count": null,
      "outputs": []
    },
    {
      "cell_type": "markdown",
      "metadata": {
        "id": "WJwsA0enCnoU"
      },
      "source": [
        "The following cell solves the already defined equality constrained problem:"
      ]
    },
    {
      "cell_type": "code",
      "metadata": {
        "id": "afu5dpVnoIVp",
        "colab": {
          "base_uri": "https://localhost:8080/",
          "height": 966
        },
        "outputId": "cc1b5729-ef9d-4f5e-b27a-802e45ce7a89"
      },
      "source": [
        "init_x = np.array([[3, -2]]) # Initial point\n",
        "\n",
        "output  = Active_QN (\n",
        "    fun = ND_parabolic, grad = grad_NDparabolic, Hessian = inv_Hessian_BFGS, fun_eq_cons = cons_eq_1, fun_ineq_cons = empty_array, \n",
        "    grad_eq_cons = grad_cons_eq_1, grad_ineq_cons = empty_array, initial_point = init_x, dimen = 2, n_iter = 1000, init_alpha = 0.45\n",
        ")\n",
        "\n",
        "fopt = ND_parabolic(output.opt_x)\n",
        "df_opt = grad_NDparabolic(output.opt_x)\n",
        "traject_f = ND_parabolic(output.traject)\n",
        "iter = output.iter\n",
        "\n",
        "fopr = fopt.reshape(1)\n",
        "#traject_f = traject_f.reshape(iter, 2)\n",
        "\n",
        "print(\"Optimum Value of f(x) and Optimum Point x\")\n",
        "txt_f = \"f(x) = {}\"\n",
        "txt_x = \"x = {}\"\n",
        "txt_df_opt = \"df(x) = {}\"\n",
        "print(txt_f.format(fopt))\n",
        "print(txt_x.format(output.opt_x))\n",
        "print(txt_df_opt.format(df_opt))\n",
        "print(\"\\n The blue dot represents the initial point\")\n",
        "print(\"\\n The yellow dots represent the optimization trajectory\")\n",
        "print(\"\\n The red dot represents the obtained minimum value\")\n",
        "print(\"\\n The white dot represents the unconstrained optimum\")\n",
        "\n",
        "print(\"\\n The optimal criteria value\")\n",
        "print(output.kkt)\n",
        "\n",
        "# Plotting Results\n",
        "nplot = 30;\n",
        "X = np.linspace(-5, 5, num=nplot)\n",
        "Y = np.linspace(-5, 5, num=nplot)\n",
        "Xplot, Yplot = np.meshgrid(X, Y)\n",
        "Zplot = np.zeros(shape=[nplot, nplot])\n",
        "\n",
        "for i in range(nplot):\n",
        "  for j in range(nplot):\n",
        "    XY = np.zeros(shape=[1,2])\n",
        "    XY[0,0] = X[i]\n",
        "    XY[0,1] = Y[j]\n",
        "    Zplot[i, j] = ND_parabolic(XY)\n",
        "\n",
        "cf = plt.contourf(Xplot, Yplot, Zplot)\n",
        "#plt.pcolor(Xplot, Yplot, Zplot,  vmin = -50, vmax = 300)\n",
        "\n",
        "\n",
        "\n",
        "#plot constraints\n",
        "xcons = np.array([[-4, 5], [5, -4]])\n",
        "plt.plot(xcons[:, 0], xcons[:, 1], 'r')\n",
        "plt.rcParams[\"figure.figsize\"] = (16, 9)\n",
        "\n",
        "plt.colorbar()\n",
        "plt.plot(0, 0, 'wo')\n",
        "plt.plot(output.traject[0:iter,0], output.traject[0:iter,1], 'yx-')\n",
        "plt.plot(output.opt_x[0,0], output.opt_x[0,1], 'ro')\n",
        "plt.plot(init_x[0,0], init_x[0,1], 'yo')\n",
        "\n",
        "plt.show()\n",
        "print(\"Total Iteration\")\n",
        "print(iter)\n",
        "\n",
        "print(\"Trajectory\")\n",
        "print(output.traject)\n"
      ],
      "execution_count": null,
      "outputs": [
        {
          "output_type": "stream",
          "text": [
            "Optimum Value of f(x) and Optimum Point x\n",
            "f(x) = [[0.51060073]]\n",
            "x = [[0.5728036 0.4271964]]\n",
            "df(x) = [[1.1456072 0.8543928]]\n",
            "\n",
            " The blue dot represents the initial point\n",
            "\n",
            " The yellow dots represent the optimization trajectory\n",
            "\n",
            " The red dot represents the obtained minimum value\n",
            "\n",
            " The white dot represents the unconstrained optimum\n",
            "\n",
            " The optimal criteria value\n",
            "0.29121439578841024\n"
          ],
          "name": "stdout"
        },
        {
          "output_type": "display_data",
          "data": {
            "image/png": "[encoded data removed]",
            "text/plain": [
              "<Figure size 1152x648 with 2 Axes>"
            ]
          },
          "metadata": {
            "tags": [],
            "needs_background": "light"
          }
        },
        {
          "output_type": "stream",
          "text": [
            "Total Iteration\n",
            "1000\n",
            "Trajectory\n",
            "[[ 3.         -2.        ]\n",
            " [ 0.75        0.25      ]\n",
            " [ 0.69375     0.30625   ]\n",
            " ...\n",
            " [ 0.57280373  0.42719627]\n",
            " [ 0.57280366  0.42719634]\n",
            " [ 0.5728036   0.4271964 ]]\n"
          ],
          "name": "stdout"
        }
      ]
    },
    {
      "cell_type": "markdown",
      "metadata": {
        "id": "fVK4Htm2UXKn"
      },
      "source": [
        "---\n",
        "---\n",
        "## Limitations and More Advanced Techniques\n",
        "\n",
        "All of the methods discussed above are examples of classical gradient-based optimization techniques. There are other more advanced techniques capable of handling specific difficult problems efficiently. Techniques such active set method, which we used in this tutorial to handle constraints, have some important limitations. The method explained in this paper is not efficient for a large-scale system. However, the main limitation is that the method does not have any guarantee that the Hessian of the Lagrange will always be invertible. One of the methods to tackle this problem is called Sequential Quadratic Programming (SQP) where it approximates the search direction with a second-order Taylor expansion, thus making it a quadratic minimization sub-problem. \n",
        "\n",
        "There are also some variations of the Hessian matrix approximation. Other methods such as Sequential Linear Programming, Augmented Lagrangian Method, and Interior Point Method have their advantages and disadvantages too. Most of these methods have been efficiently implemented in open-source packages such as SciPy (for Python), NLopt (for C/C++), and SNOPT (for Fortran). The lesson here is to know which method is the most suitable for your application by learning the theoretical foundation of those methods."
      ]
    },
    {
      "cell_type": "markdown",
      "metadata": {
        "id": "m310_Z7QnPRE"
      },
      "source": [
        "---\n",
        "--- "
      ]
    }
  ]
}