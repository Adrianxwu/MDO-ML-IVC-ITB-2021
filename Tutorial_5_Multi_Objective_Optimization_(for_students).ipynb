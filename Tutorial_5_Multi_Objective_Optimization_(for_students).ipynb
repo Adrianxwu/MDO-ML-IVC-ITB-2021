{
  "nbformat": 4,
  "nbformat_minor": 0,
  "metadata": {
    "colab": {
      "name": "Tutorial 5 Multi-Objective Optimization (for students).ipynb",
      "provenance": [],
      "collapsed_sections": [],
      "toc_visible": true,
      "include_colab_link": true
    },
    "kernelspec": {
      "display_name": "Python 3",
      "name": "python3"
    },
    "language_info": {
      "name": "python"
    }
  },
  "cells": [
    {
      "cell_type": "markdown",
      "metadata": {
        "id": "view-in-github",
        "colab_type": "text"
      },
      "source": [
        "<a href=\"https://colab.research.google.com/github/Adrianxwu/MDO-ML-IVC-ITB-2021/blob/main/Tutorial_5_Multi_Objective_Optimization_(for_students).ipynb\" target=\"_parent\"><img src=\"https://colab.research.google.com/assets/colab-badge.svg\" alt=\"Open In Colab\"/></a>"
      ]
    },
    {
      "cell_type": "markdown",
      "metadata": {
        "id": "6zxSlNZXaGXS"
      },
      "source": [
        "# **TUTORIAL 5: MULTI-OBJECTIVE OPTIMIZATION**\n",
        "\n",
        "**Multidisciplinary Optimization and Machine Learning for Engineering Design International Virtual Course**\n",
        "\n",
        "**19 July - 5 August 2021**\n",
        "\n",
        "Written by: Yohanes Bimo Dwianto\n",
        "\n",
        "Based on the lecture material by: Hemant Kumar Singh, Ph.D. (University of New South Wales Canberra, Australia)\n"
      ]
    },
    {
      "cell_type": "markdown",
      "metadata": {
        "id": "lgrWTwN4KQjh"
      },
      "source": [
        "---\n",
        "---\n",
        "# 1. Theory Overview\n",
        "\n",
        "---\n",
        "## General Form of Optimization\n",
        "Suppose a minimization problem, the general form of optimization as follows,\n",
        "\n",
        "\\begin{equation} \n",
        "\\begin{array}{ll}\n",
        "\\mbox{Minimize}     & f_i(\\boldsymbol{x}),\\ i=1,\\ldots,N_{obj} \\\\\n",
        "\\mbox{subject to}   & g_j(\\boldsymbol{x}) \\le 0,\\ j=1,\\ldots,N_{ineq}\\\\\n",
        "& h_k(\\boldsymbol{x}) = 0,\\ k=1,\\ldots,N_{eq}\\\\\n",
        "& \\boldsymbol{x}_L \\le \\boldsymbol{x} \\le \\boldsymbol{x}_U\n",
        "\\end{array}    \n",
        "\\end{equation}\n",
        "\n",
        "where \n",
        "* $\\boldsymbol{x}$ denotes the $N_{var}$-dimensional solution vector\n",
        "* Symbols $f_i$, $g_j$, and $h_k$ denote the $i^{th}$ objective function, the $j^{th}$ inequality constraint, and the $k^{th}$ equality constraint, respectively\n",
        "* $N_{obj}$ denotes the number of objective functions\n",
        "* $N_{ineq}$ and $N_{eq}$ denote the number of inequality constraints and equality constraints, respectively. Then, the number of all constraints is $N_{con}=N_{ineq}+N_{eq}$\n",
        "* Both $\\boldsymbol{x}_L$ and $\\boldsymbol{x}_U$ denote the lower and upper bounds of the search space, respectively. \n",
        "\n",
        "---\n",
        "## Multi-Objective Optimization \n",
        "* Multi-objective optimization (MOO) can be defined as minimization and/or maximization of a problem which has two or three objective functions. For problems with more than three objective functions, we usually use a different term, namely **many-objective optimization**. In constrast to single-objective, multi-objective optimization features the following characteristics:\n",
        "  * The objective functions are **conflicting**.\n",
        "  * Therefore, there are more than one optimum solution, namely Pareto-optimal solutions.\n",
        "* In the case of stochastic method for solving multi-objective problem, there are three basic categories of stochastic method for MOO:\n",
        "  * dominance-based (NSGA-II): utilizes **dominance relation** between individuals to find Pareto-optima,\n",
        "  * decomposition-based (MOEA/D, RVEA): **decomposes the multi-objective problem into many single-objective problems**,\n",
        "  * indicator-based (IBEA): utilizes indicators such as **hypervolume** to find Pareto-optima.\n",
        "\n",
        "* Pareto-optima is found by conducting **non-dominance assessment** of the candidate solutions obtained by the end of the optimization. \n",
        "* The non-dominance assessment is conducted as follows: suppose two arbitrary solutions, i.e., $\\boldsymbol{x}_1$ and $\\boldsymbol{x}_2$. A solution $\\boldsymbol{x}_1$ dominates (or is non-dominated by) $\\boldsymbol{x}_2$ if it satisfies the following two requirements:\n",
        "  * $f_i(\\boldsymbol{x}_1)$ is no worse than $f_i(\\boldsymbol{x}_2)$ for all indices $i=1,\\ldots,N_{obj}$, and\n",
        "  * $f_i(\\boldsymbol{x}_1)$ is better than $f_i(\\boldsymbol{x}_2)$ on at least one index $i=1,\\ldots,N_{obj}$.\n",
        "\n",
        "\n",
        "![picture](https://drive.google.com/uc?export=view&id=1uiHbRmvQDE1Sj9h162ayCr2YtEqYxqX7)\n",
        "\n",
        "---\n",
        "\n"
      ]
    },
    {
      "cell_type": "markdown",
      "metadata": {
        "id": "vz-6qLfn6WDo"
      },
      "source": [
        "## Multi-Objective Evolutionary Algorithm (MOEA) - General Framework\n",
        "In general, the main framework of MOEA is similar to that of single-objective optimization (i.e., they have crossover and mutation as the main mechanisms). The difference is primarily in the calculation of fitness value $F$, which will be discussed covered in the next section (Python coding part). Let's take a look again at the general mechanism of an EA algorithm:\n",
        "* Population initialization\n",
        "* Calculation of fitness values\n",
        "* Parental selection\n",
        "* Crossover/ recombination\n",
        "* Mutation\n",
        "* Environmental selection\n",
        "\n",
        "![picture](https://drive.google.com/uc?export=view&id=1T8HdBIVAHh_1-GRW28ABp0TiZN8EZeuR)\n",
        "\n",
        "---\n",
        "## Performance Measurement - Hypervolume\n",
        "Since MOO produces more than one optimum solution, it is not an easy task to measure the performance of the algorithm. The estimated Pareto-optima not only need to be as close as possible to the true Pareto-optima but should also be as diverse as possible. This means that there are at least two aspects to measure:\n",
        "* convergence, and\n",
        "* diversity.\n",
        "\n",
        "These aspects can be measured either individually (e.g. convergence with generational distance metric and diversity with diversity metric) or simultaneously (e.g. by measuring the hypervolume or inverted generational distance). \n",
        "\n",
        "In this tutorial, we focus on **hypervolume (HV)**, which is probably the most popular metric for measuring performance in multi-objective optimization. \n",
        "The nice thing about HV is that it simultaneously measures both the convergence and the diversity in a single metric. HV works with the following procedure:\n",
        "* Select a reference point, which should be dominated by the estimated/true Pareto-optima, and\n",
        "* Calculate the hypervolume of the hypercube that is bounded by the reference point and each obtained solution.\n",
        "* HV is the hypervolume acquired from the union of the hypercubes. **Higher value of HV indicates better performance.**\n",
        "\n",
        "The figure below illustrates the definition of HV:\n",
        "\n",
        "![picture](https://drive.google.com/uc?export=view&id=1a3E1xU4-sss9u_T1mtwY25z5PbLxhXM-)\n",
        "\n",
        "---"
      ]
    },
    {
      "cell_type": "markdown",
      "metadata": {
        "id": "bM-W57_16b6B"
      },
      "source": [
        "\n",
        "## Decision Making\n",
        "Since MOO provides many solutions, it is also not an easy task to select which solution to proceed, as it often depends on the user's preference. However, in the case of **two-objective optimization**, we have at least three interesting solutions (also see the figure below):\n",
        "* the best solution for $f_1$,\n",
        "* the best solution for $f_2$, and\n",
        "* the compromised solution for both $f_1$ and $f_2$.\n",
        "\n",
        "One of the method to identify the compromised solution is the **knee-point method**, which will be elaborated in the last part of this tutorial. As a side note, visualizations of high-dimensional non-dominated solutions (e.g. $N_{obj}>3$) are often done with specialized data mining techniques.\n",
        "\n",
        "![picture](https://drive.google.com/uc?export=view&id=158VHOVClkUDP0mh1olXwUoMhGuPp6BxN)\n"
      ]
    },
    {
      "cell_type": "markdown",
      "metadata": {
        "id": "ohccJq2Ibnyi"
      },
      "source": [
        "---\n",
        "---\n",
        "# 2. Python Coding of Non-Dominated Sorting Genetic Algorithm II (NSGA-II)\n",
        "\n",
        "Now let's code MOEA from scratch! In this tutorial, we will focus on NSGA-II, one of the most popular algorithm for MOO.\n",
        "\n",
        "## Problem Inputs:\n",
        "* Objective functions\n",
        "* Constraint function(s), if any\n",
        "* Number of design variables, $N_{var}$\n",
        "* Number of objective functions, $N_{obj}$\n",
        "* Number of constraints, $N_{con}$\n",
        "* Search space: lower bound $lb$ and upper bound $ub$\n",
        "\n",
        "## NSGA-II Inputs\n",
        "* Population size, $N_{pop}$\n",
        "* Number of generations, $N_{gen}$\n",
        "* Crossover probability, $P_{cross}$\n",
        "* Mutation probability, $P_{mut}$ \n",
        "\n",
        "**Reference:** Deb, Kalyanmoy, Amrit Pratap, Sameer Agarwal, and T. A. M. T. Meyarivan. \"A fast and elitist multiobjective genetic algorithm: NSGA-II.\" IEEE transactions on evolutionary computation 6, no. 2 (2002): 182-197.\n"
      ]
    },
    {
      "cell_type": "markdown",
      "metadata": {
        "id": "-ey5RVLINx2E"
      },
      "source": [
        "---\n",
        "## Importing necessary packages\n",
        "The necessary packages that we will use are ```numpy```, ```matplotlib``` (for visualization), and ```get_performance_indicator``` (for hypervolume calculation) from ```pymoo```. The ```pymoo``` package is not natively available in Google colaboratory. Therefore, we need to install it first with ```!pip install pymoo```.\n",
        "\n",
        "**Reference:** Blank, Julian, and Kalyanmoy Deb. \"pymoo: Multi-objective optimization in python.\" IEEE Access 8 (2020): 89497-89509."
      ]
    },
    {
      "cell_type": "code",
      "metadata": {
        "id": "r_SL5l8meeT8",
        "colab": {
          "base_uri": "https://localhost:8080/"
        },
        "cellView": "form",
        "outputId": "df03d3b1-3630-4c0a-bf3b-de4380b8f47a"
      },
      "source": [
        "#@title Importing Packages\n",
        "import numpy as np\n",
        "import matplotlib.pyplot as plt\n",
        "!pip install pymoo\n",
        "from pymoo.factory import get_performance_indicator"
      ],
      "execution_count": null,
      "outputs": [
        {
          "output_type": "stream",
          "text": [
            "Collecting pymoo\n",
            "  Downloading pymoo-0.4.2.2.tar.gz (3.7 MB)\n",
            "\u001b[K     |████████████████████████████████| 3.7 MB 8.0 MB/s \n",
            "\u001b[?25hRequirement already satisfied: numpy>=1.15 in /usr/local/lib/python3.7/dist-packages (from pymoo) (1.19.5)\n",
            "Requirement already satisfied: scipy>=1.1 in /usr/local/lib/python3.7/dist-packages (from pymoo) (1.4.1)\n",
            "Requirement already satisfied: matplotlib>=3 in /usr/local/lib/python3.7/dist-packages (from pymoo) (3.2.2)\n",
            "Requirement already satisfied: autograd>=1.3 in /usr/local/lib/python3.7/dist-packages (from pymoo) (1.3)\n",
            "Collecting cma==2.7\n",
            "  Downloading cma-2.7.0-py2.py3-none-any.whl (239 kB)\n",
            "\u001b[K     |████████████████████████████████| 239 kB 57.8 MB/s \n",
            "\u001b[?25hRequirement already satisfied: future>=0.15.2 in /usr/local/lib/python3.7/dist-packages (from autograd>=1.3->pymoo) (0.16.0)\n",
            "Requirement already satisfied: pyparsing!=2.0.4,!=2.1.2,!=2.1.6,>=2.0.1 in /usr/local/lib/python3.7/dist-packages (from matplotlib>=3->pymoo) (2.4.7)\n",
            "Requirement already satisfied: cycler>=0.10 in /usr/local/lib/python3.7/dist-packages (from matplotlib>=3->pymoo) (0.10.0)\n",
            "Requirement already satisfied: python-dateutil>=2.1 in /usr/local/lib/python3.7/dist-packages (from matplotlib>=3->pymoo) (2.8.1)\n",
            "Requirement already satisfied: kiwisolver>=1.0.1 in /usr/local/lib/python3.7/dist-packages (from matplotlib>=3->pymoo) (1.3.1)\n",
            "Requirement already satisfied: six in /usr/local/lib/python3.7/dist-packages (from cycler>=0.10->matplotlib>=3->pymoo) (1.15.0)\n",
            "Building wheels for collected packages: pymoo\n",
            "  Building wheel for pymoo (setup.py) ... \u001b[?25l\u001b[?25hdone\n",
            "  Created wheel for pymoo: filename=pymoo-0.4.2.2-cp37-cp37m-linux_x86_64.whl size=4940010 sha256=9bc490fe417527960390498ddde7d1550942a8254d33fa5ebe1a27d4e1a3d63f\n",
            "  Stored in directory: /root/.cache/pip/wheels/ab/8c/89/c450ad360fc24cb70fec0388e8d95b51021eae5dab248ab76e\n",
            "Successfully built pymoo\n",
            "Installing collected packages: cma, pymoo\n",
            "Successfully installed cma-2.7.0 pymoo-0.4.2.2\n"
          ],
          "name": "stdout"
        }
      ]
    },
    {
      "cell_type": "markdown",
      "metadata": {
        "id": "D_KoX8o9Mrao"
      },
      "source": [
        "---\n",
        "## Defining Test Problem: \n",
        "\n",
        "**Unconstrained Problem: ZDT1**\n",
        "Let's start with a simple multi-objective analytical problem, namely, ZDT1 (if you are wondering what ZDT stands for, it takes its name from its authors: Zitzler, Deb and Thiele). The ZDT1 problem has the following characteristics: \n",
        "\n",
        "* ZDT1 has the number of design variables, $N_{var}$, which may vary from one to infinity. \n",
        "* It is expressed as follows (both objectives are to be minimized):\n",
        "$$f_1(\\boldsymbol{x})=x_1$$\n",
        "$$f_2(\\boldsymbol{x})=g(\\boldsymbol{x})\\left[1-\\sqrt{x_1-g(\\boldsymbol{x})} \\right]$$ \n",
        "where\n",
        "$$g(\\boldsymbol{x})=1+\\frac{9}{N_{var}-1} \\left(\\sum_{i=2}^{N_{var}} x_i\\right)$$. \n",
        "* The lower and upper bounds of the search space are 0 and 1, respectively, for each design variable.\n",
        "* The Pareto-optima are convex, lying on $x_1 \\in [0,1]$ and $x_i=0, \\ i=2,\\ldots,N_{var}$.\n",
        "\n",
        "<br><br>\n",
        "**Reference**:\n",
        "Deb, Kalyanmoy, Samir Agrawal, Amrit Pratap, and Tanaka Meyarivan. \"A fast elitist non-dominated sorting genetic algorithm for multi-objective optimization: NSGA-II.\" In International conference on parallel problem solving from nature, pp. 849-858. Springer, Berlin, Heidelberg, 2000.\n",
        "\n",
        "<br><br>\n",
        "**Constrained problem: Welded Beam** \n",
        "\n",
        "Our second test problem is the constrained welded beam problem, which creates extra challenges for EAs because we need CHT to find the feasible optimal solution. We tackled this problem in a single-objective manner, now let's do it again but with multiple objectives. Please see the illustration of the welded beam problem below:\n",
        "\n",
        "![picture](https://drive.google.com/uc?export=view&id=157ZHCeL7ndL1virle5u72Tl9tyMEBp98)\n",
        "\n",
        "The welded beam problem has the following characteristics: \n",
        "* Welded Beam problem has number of design variables, $N_{var}=4$ and number of constraints, $N_{con}=4$ (all inequality constraints). \n",
        "* The objective functions are to minimize (where $f_{1}$ and $f_{2}$ are cost and deflection, respectively):\n",
        "$$f_1(\\boldsymbol{x})=1.10471x_1^2x_2+0.04811x_3x_4(14.0+x_2)$$\n",
        "$$f_2(\\boldsymbol{x})=\\delta(\\boldsymbol{x})$$\n",
        "subject to:\n",
        "$$g_1(\\boldsymbol{x})=\\tau(\\boldsymbol{x})-\\tau_{max} \\le 0$$\n",
        "$$g_2(\\boldsymbol{x})=\\sigma(\\boldsymbol{x})-\\sigma_{max} \\le 0$$\n",
        "$$g_3(\\boldsymbol{x})=x_1-x_4 \\le 0$$\n",
        "$$g_4(\\boldsymbol{x})=P-P_c(\\boldsymbol{x} \\le 0$$\n",
        "where\n",
        "$$\\tau(\\boldsymbol{x})=\\sqrt{(\\tau')^2+2\\tau'\\tau''\\frac{x_2}{2R}+(\\tau'')^2}$$\n",
        "$$\\tau'=\\frac{P}{\\sqrt{2}x_1x_2},\\tau''=\\frac{MR}{J},M=P\\left( L+\\frac{x_2}{2}\\right)$$\n",
        "$$R=\\sqrt{\\frac{x_2^2}{4}+\\left( \\frac{x_1+x_3}{2}\\right)^2}$$\n",
        "$$J=2\\left(\\sqrt{2}x_1x_2\\left[ \\frac{x_2^2}{12}+\\left( \\frac{x_1+x_3}{2}\\right)^2\\right]\\right)$$\n",
        "$$\\sigma(\\boldsymbol{x})=\\frac{6PL}{x_4x_3^2},\\delta(\\boldsymbol{x})=\\frac{4PL}{x_3x_4^2}$$\n",
        "$$P_c(\\boldsymbol{x})=\\frac{4.013E\\sqrt{\\frac{x_3^2x_4^6}{36}}}{L^2}\\left( 1-\\frac{x_3}{2L}\\sqrt{\\frac{E}{4G}} \\right)$$\n",
        "$$P=6000 \\ lb, L=14 \\ in, E=30 \\times 10^6 \\ psi, G=12 \\times 10^6 \\ psi$$\n",
        "$$\\tau_{max}=13600 \\ psi, \\sigma_{max}=30000 \\ psi, \\delta_{max}=0.25 \\ in$$\n",
        "\n",
        "\n",
        "<br><br>\n",
        "**Reference**:\n",
        "Rao, Singiresu S. Engineering optimization: theory and practice. John Wiley & Sons, 2019.\n",
        "\n",
        "The following cell defines our test problems:"
      ]
    },
    {
      "cell_type": "code",
      "metadata": {
        "id": "jcnHpUoPMbz1",
        "colab": {
          "base_uri": "https://localhost:8080/",
          "height": 350
        },
        "outputId": "d9401259-f192-40dd-f646-58fea62a2622"
      },
      "source": [
        "#@title Test Problems\n",
        "def testproblem(indi_denorm,nobj,ncon,fun_name):\n",
        "    nvar = indi_denorm.shape[0] # number of design variables\n",
        "\n",
        "    if fun_name == 'ZDT1':\n",
        "        temp = 1 + 9/(nvar-1)*np.sum(indi_denorm[1:])\n",
        "        f1 = indi_denorm[0]\n",
        "        f2 = temp*(1-np.sqrt(f1/temp))\n",
        "       \n",
        "        f = np.zeros(nobj)\n",
        "        f[0] = f1\n",
        "        f[1] = f2\n",
        "\n",
        "    elif fun_name == 'weldedbeam':\n",
        "\n",
        "        E = 30e6\n",
        "        G = 12e6\n",
        "        L = 14\n",
        "        taw_max = 13600\n",
        "        sigma_max = 30000\n",
        "        delta_max = 0.25\n",
        "        P = 6000\n",
        "        c1 = 0.10471\n",
        "        c2 = 0.04811\n",
        "        c3 = 1\n",
        "\n",
        "        Vweld = indi_denorm[0]**2*indi_denorm[1]\n",
        "        Vbar = indi_denorm[2]*indi_denorm[3]*(L+indi_denorm[1])\n",
        "\n",
        "        taw_d = P/(np.sqrt(2)*indi_denorm[0]*indi_denorm[1])\n",
        "        M = P*(L+indi_denorm[1]/2)\n",
        "        R = np.sqrt(indi_denorm[1]**2/4+((indi_denorm[0]+indi_denorm[2])/2)**2)\n",
        "        J = 2*(indi_denorm[0]*indi_denorm[1]*np.sqrt(2)*(indi_denorm[1]**2/12 + ((indi_denorm[0]+indi_denorm[2])/2)**2))\n",
        "        taw_dd = M*R/J\n",
        "        taw = np.sqrt(taw_d**2 + 2*taw_d*taw_dd*indi_denorm[1]/(2*R) + taw_dd**2)\n",
        "        sigma = 6*P*L/(indi_denorm[3]*indi_denorm[2]**2)\n",
        "        delta = 4*P*L**3/(E*indi_denorm[3]*indi_denorm[2]**3)\n",
        "        Pc = 4.013*E*indi_denorm[2]*indi_denorm[3]**3/(6*L**2)*(1-indi_denorm[2]/(2*L)*np.sqrt(E/(4*G)))\n",
        "\n",
        "        f = np.zeros(nobj)\n",
        "        f[0] = (c1+c3)*Vweld + c2*Vbar\n",
        "        f[1] = delta\n",
        "\n",
        "        g = np.zeros(ncon)\n",
        "        g[0] = taw - taw_max\n",
        "        g[1] = sigma - sigma_max\n",
        "        g[2] = indi_denorm[0] - indi_denorm[3]\n",
        "        g[3] = P - Pc\n",
        "\n",
        "    if ncon == 0:\n",
        "        return f\n",
        "    else:\n",
        "        return f,g\n",
        "\n",
        "# TESTING - ZDT1 PROBLEM\n",
        "#lb = 0*np.ones(nvar)   \n",
        "#ub = 1*np.ones(nvar)   \n",
        "nvar = 30\n",
        "nobj = 2\n",
        "ncon = 0\n",
        "nsol = 101\n",
        "x = np.zeros((nsol,nvar))\n",
        "x[:,0] = np.linspace(0,1,nsol,endpoint=True)\n",
        "fun_name = 'ZDT1'\n",
        "f = np.zeros((nsol,nobj))\n",
        "for i in range(nsol):\n",
        "    f[i,:] = testproblem(x[i,:],nobj,ncon,fun_name)\n",
        "print('ZDT1 PROBLEM')\n",
        "# print('Optimum objective value:',f)\n",
        "\n",
        "plt.plot(f[:,0],f[:,1],'bo-')\n",
        "plt.grid(True)\n",
        "plt.show()\n",
        "\n",
        "# TESTING - WELDED BEAM PROBLEM   \n",
        "#lb = np.array([0.125,0.1,0.1,0.125])\n",
        "#ub = np.array([5,10,10,5])\n",
        "fun_name = 'weldedbeam'\n",
        "nvar = 4\n",
        "nobj = 2\n",
        "ncon = 4\n",
        "x = np.array([0.20573,3.470489,9.036624,0.20573])\n",
        "f = testproblem(x,nobj,ncon,fun_name)\n",
        "print('\\nWELDED BEAM PROBLEM')\n",
        "print('f1 (Cost):',f[0])\n",
        "print('f2 (Declection):',f[1])\n"
      ],
      "execution_count": null,
      "outputs": [
        {
          "output_type": "stream",
          "text": [
            "ZDT1 PROBLEM\n"
          ],
          "name": "stdout"
        },
        {
          "output_type": "display_data",
          "data": {
            "image/png": "[encoded data removed]",
            "text/plain": [
              "<Figure size 432x288 with 1 Axes>"
            ]
          },
          "metadata": {
            "tags": [],
            "needs_background": "light"
          }
        },
        {
          "output_type": "stream",
          "text": [
            "\n",
            "WELDED BEAM PROBLEM\n",
            "f1 (Cost): [1.72485567 0.01445965]\n",
            "f2 (Declection): [-0.02539959 -0.05312238  0.         -0.03155555]\n"
          ],
          "name": "stdout"
        }
      ]
    },
    {
      "cell_type": "markdown",
      "metadata": {
        "id": "WvjuW_Tfg02E"
      },
      "source": [
        "---\n",
        "## Population Initialization\n",
        "The initial population can be generated either randomly or by using design of experiment (DoE) techniques such as Latin Hypercube sampling (this is the most common), Sobol sequences, Halton sequences, etc. The parameters that we define are as follows:\n",
        "* population size, $N_{pop}$ and\n",
        "* number of design variables, $N_{var}$.\n",
        "\n",
        "It is common to generate population in normalized values between zero and one.\n",
        "\n",
        "The cell below demonstrates a simple code to randomly generate initial population (if you set ```nvar=2``` then you can visualize the initial population):\n"
      ]
    },
    {
      "cell_type": "code",
      "metadata": {
        "id": "n0ZIKgUEhSb5"
      },
      "source": [
        "#@title Population Initialization\n",
        "# Population Initialization\n",
        "npop = 10\n",
        "nvar = 30\n",
        "population = np.random.rand(npop,nvar)\n",
        "#print(population)\n",
        "\n",
        "if nvar == 2:\n",
        "    fig = plt.figure()\n",
        "    plt.scatter(population[:,0],population[:,1])\n",
        "    plt.xlabel(r'$x_1$')\n",
        "    plt.ylabel(r'$x_2$')\n",
        "    plt.show()"
      ],
      "execution_count": null,
      "outputs": []
    },
    {
      "cell_type": "markdown",
      "metadata": {
        "id": "ZAo8_doNTjux"
      },
      "source": [
        "---\n",
        "## Denormalization\n",
        "Since the population is defined in a normalized value from zero to one, each variable of the individual in the population needs to be denormalized first into the real values of design variables with the following expression\n",
        "$$x_{j,denorm} = x_{j,L} + (x_{j,U}-x_{j,L}) x_{j,norm}$$\n",
        "\n",
        "We use the below function to perform the denormalization operation by using the lower and the upper bound of the ZDT1 function as an example:"
      ]
    },
    {
      "cell_type": "code",
      "metadata": {
        "id": "zEVR39eQM_ar",
        "cellView": "form"
      },
      "source": [
        "#@title Denormalization\n",
        "def calc_denorm(individual,lb,ub):\n",
        "\tindi_denorm = lb + (ub-lb)*individual\n",
        "\treturn indi_denorm\n",
        "\n",
        "lb = 0*np.ones(nvar) # lower bound\n",
        "ub = 1*np.ones(nvar)  # upper bound\n",
        "x = population[0,:]\n",
        "# print('Normalized x:',x)\n",
        "# x1 = calc_denorm(x,lb,ub)\n",
        "# print('Denormalized x:',x1)\n"
      ],
      "execution_count": null,
      "outputs": []
    },
    {
      "cell_type": "markdown",
      "metadata": {
        "id": "cGCXMsj0ivrC"
      },
      "source": [
        "---\n",
        "## Calculating Objective and Constraint function values\n",
        "The objective and constraint function values are then evaluated based on the optimization problem. In ZDT1 problem, only objective function values are evaluated because there is no constraint. Let's do a simple test, that is, we will evaluate the objective and constraint values of a random initial population for the ZDT1 and the welded beam problem:"
      ]
    },
    {
      "cell_type": "code",
      "metadata": {
        "id": "4tLpk5NkNGas",
        "colab": {
          "base_uri": "https://localhost:8080/"
        },
        "outputId": "b1cadfcd-cde6-44a8-f3b4-393ba9237263"
      },
      "source": [
        "#@title Calculating Objective and Constraint\n",
        "def calc_obj_con(population,fun_name,nobj,ncon,lb,ub):\n",
        "    npop,nvar = population.shape\n",
        "    objval = np.zeros((npop,nobj))         # initializing storing array for objective values\n",
        "    if ncon == 0:\n",
        "        conval = np.zeros((npop,1)) # dummy constraint for unconstrained problem\n",
        "    else:\n",
        "        conval = np.zeros((npop,ncon)) # initializing storing array for constraint values\n",
        "      \n",
        "    for i in range(npop):\n",
        "        individual = population[i,:]\n",
        "        indi_denorm = calc_denorm(individual,lb,ub)\n",
        "        if ncon == 0:\n",
        "           objval[i,:] = testproblem(indi_denorm,nobj,ncon,fun_name)\n",
        "        else:\n",
        "           objval[i,:],conval[i,:] = testproblem(indi_denorm,nobj,ncon,fun_name)\n",
        "\n",
        "    return objval,conval\n",
        "\n",
        "# Testing ZDT1 Problem\n",
        "fun_name = 'ZDT1'\n",
        "nvar = 30\n",
        "nobj = 2\n",
        "ncon = 0\n",
        "lb = 0.0*np.ones(nvar) # lower bound\n",
        "ub = 1.0*np.ones(nvar)  # upper bound\n",
        "npop = 10\n",
        "population = np.random.rand(npop,nvar)\n",
        "objval,conval = calc_obj_con(population,fun_name,nobj,ncon,lb,ub)\n",
        "\n",
        "print('ZDT1 PROBLEM')\n",
        "print('objective values:',objval)\n",
        "print('constraint values:',conval)\n",
        "\n",
        "# Testing WELDED BEAM Problem\n",
        "# fun_name = 'weldedbeam'\n",
        "# nvar = 4\n",
        "# nobj = 2\n",
        "# ncon = 4\n",
        "# lb = np.array([0.125,0.1,0.1,0.125])\n",
        "# ub = np.array([5,10,10,5])\n",
        "# npop = 10\n",
        "# population = np.random.rand(npop,nvar)\n",
        "# objval,conval = calc_obj_con(population,fun_name,nobj,ncon,lb,ub)\n",
        "\n",
        "# print('\\nWELDED BEAM PROBLEM')\n",
        "# print('objective values:',objval)\n",
        "# print('constraint values:',conval)\n"
      ],
      "execution_count": null,
      "outputs": [
        {
          "output_type": "stream",
          "text": [
            "ZDT1 PROBLEM\n",
            "objective values: [[9.71983779e-01 4.45097653e+00]\n",
            " [8.42146097e-01 3.51849943e+00]\n",
            " [1.03773038e-01 5.70908368e+00]\n",
            " [3.40266345e-01 4.30495711e+00]\n",
            " [2.99272803e-03 5.01015506e+00]\n",
            " [1.04773119e-01 5.31158903e+00]\n",
            " [6.27382273e-01 3.23622979e+00]\n",
            " [4.93861239e-01 3.81271664e+00]\n",
            " [3.57940736e-01 3.83355911e+00]\n",
            " [6.27793115e-01 3.44172537e+00]]\n",
            "constraint values: [[0.]\n",
            " [0.]\n",
            " [0.]\n",
            " [0.]\n",
            " [0.]\n",
            " [0.]\n",
            " [0.]\n",
            " [0.]\n",
            " [0.]\n",
            " [0.]]\n"
          ],
          "name": "stdout"
        }
      ]
    },
    {
      "cell_type": "markdown",
      "metadata": {
        "id": "0P6USn5dlF4h"
      },
      "source": [
        "---\n",
        "## Calculating Fitness Value: Non-dominated Sorting and Crowding Distance\n",
        "\n",
        "**Non-dominated sorting** ranks individuals based on their non-dominance relation. Suppose two arbitrary solutions, $\\boldsymbol{x}_1$ and $\\boldsymbol{x}_2$; in the case of **unconstrained problem**, the non-dominance relation follows the assessment as explained in the preceding section. In the case of constrained problems, $\\boldsymbol{x}_1$ dominates $\\boldsymbol{x}_2$ if:\n",
        "* $\\boldsymbol{x}_1$ is feasible and $\\boldsymbol{x}_2$ is infeasible,\n",
        "* both $\\boldsymbol{x}_1$ and $\\boldsymbol{x}_2$ are infeasible, and $\\boldsymbol{x}_1$ has a lower sum of constraint violation, or\n",
        "* both $\\boldsymbol{x}_1$ and $\\boldsymbol{x}_2$ are feasible, and $\\boldsymbol{x}_1$ dominates $\\boldsymbol{x}_2$ based on the non-dominance assessment from the preceding section.\n",
        "\n",
        "**Crowding distance** quantifies the diversity level of one individual by calculating a distance equal to the sum of normalized difference of objective values for two adjacent individuals in the same front. \n",
        "<br><br>\n",
        "Both domination relation and crowding distance are illustrated in the figure below:\n",
        "\n",
        "![picture](https://drive.google.com/uc?export=view&id=1dOoFWvhwDH-4OIrIwt_dLb0uTaeITYxu)\n",
        "\n",
        "The following code implements the non-dominated sorting and the crowding distance. We can visualize both steps since the test problems have only two objective functionss. After running the non-dominated sorting code, we can see the spreading of solutions in the objective space, as well as **the non-dominated solutions (red dots)**. Then, upon running the crowding distance code, we can **indicate the crowding distance of the non-dominated solutions**.\n",
        "\n",
        "The fitness value $F$ of the individuals are denoted by the rank generated from non-dominated sorting and crowding distance, such as\n",
        "* non-dominated sorting generates initial rank by grouping the individuals into fronts (lower front indicates better convergence), then\n",
        "* in each front, individuals are ranked again based on their crowding distances (higher crowding distance is better)."
      ]
    },
    {
      "cell_type": "code",
      "metadata": {
        "id": "LYlje4agDveX",
        "colab": {
          "base_uri": "https://localhost:8080/",
          "height": 317
        },
        "outputId": "8635ec7f-7901-49ce-c449-f3c5c3aa3fb3"
      },
      "source": [
        "#@title Non-Dominated Sorting\n",
        "def fnds(objval,all_front=True,conval='None'):\n",
        "    npop,nobj = objval.shape\n",
        "    if conval != 'None':\n",
        "        ncon = conval.shape[1]\n",
        "\n",
        "    # Fast Nondominated Sorting\n",
        "    S = [[] for i in range(npop)]\n",
        "    front = [[]]\n",
        "    n = np.zeros(npop,dtype='int')\n",
        "    rank = np.zeros(npop,dtype='int')\n",
        "\n",
        "    for p in range(npop):\n",
        "        #print('currently assessing the dominance of individual: ',p,' out of: ',npop)\n",
        "        S[p] = []\n",
        "        n[p] = 0\n",
        "        for q in range(npop):\n",
        "            dominating = 0\n",
        "            dominated = 0\n",
        "            equal = 0\n",
        "            for i in range(nobj):\n",
        "                if conval == 'None':\n",
        "                    if(objval[p,i] < objval[q,i]): # p dominates q\n",
        "                        dominating = dominating + 1\n",
        "                    elif(objval[p,i] > objval[q,i]): # p is dominated by q\n",
        "                        dominated = dominated + 1\n",
        "                    else:\n",
        "                        equal = equal + 1\n",
        "                else:\n",
        "                    cvp = conval[p,:]\n",
        "                    cvp[cvp < 0] = 0\n",
        "                    cvq = conval[q,:]\n",
        "                    cvq[cvq < 0] = 0\n",
        "\n",
        "                    sumcvp = np.sum(cvp)\n",
        "                    sumcvq = np.sum(cvq)\n",
        "                    if sumcvp == 0 and sumcvq > 0:\n",
        "                        dominating = dominating + 1\n",
        "                    elif sumcvp > 0 and sumcvq == 0:    \n",
        "                        dominated = dominated + 1\n",
        "                    elif sumcvp > 0 and sumcvq > 0:\n",
        "                        if sumcvp < sumcvq:\n",
        "                            dominating = dominating + 1\n",
        "                        elif sumcvp > sumcvq:\n",
        "                            dominated = dominated + 1\n",
        "                        else:    \n",
        "                            equal = equal + 1\n",
        "                    else:\n",
        "                        if(objval[p,i] < objval[q,i]): # p dominates q\n",
        "                            dominating = dominating + 1\n",
        "                        elif(objval[p,i] > objval[q,i]): # p is dominated by q\n",
        "                            dominated = dominated + 1\n",
        "                        else:\n",
        "                            equal = equal + 1\n",
        "\n",
        "            sum1 = equal + dominating\n",
        "            sum2 = equal + dominated\n",
        "            if(dominating == nobj or (equal < nobj and sum1 == nobj)):\n",
        "                S[p].append(q)\n",
        "            elif(dominated == nobj or (equal < nobj and sum2 == nobj) ):\n",
        "                n[p] = n[p] + 1\n",
        "        if(n[p] == 0):\n",
        "            rank[p] = 0\n",
        "            front[0].append(p)\n",
        "\n",
        "    if all_front == True:\n",
        "        i = 0\n",
        "        while(front[i] != []):\n",
        "            Q = []\n",
        "            for p in front[i]:\n",
        "                for q in S[p]:\n",
        "                    n[q] = n[q] - 1\n",
        "                    if(n[q] == 0):\n",
        "                        rank[q] = i + 1\n",
        "                        Q.append(q)\n",
        "            i = i + 1\n",
        "            front.append(Q)\n",
        "\n",
        "    front1 = front[:len(front)-1]\n",
        "    return front1,rank\n",
        "\n",
        "if fun_name == 'ZDT1':\n",
        "    front,rank = fnds(objval,all_front=True)\n",
        "elif fun_name == 'weldedbeam':\n",
        "    front,rank = fnds(objval,all_front=True,conval=conval)\n",
        "print('Fronts:',front)\n",
        "print('Initial Rank:',rank)\n",
        "plt.scatter(objval[:,0],objval[:,1],c='b')\n",
        "plt.scatter(objval[front[0],0],objval[front[0],1],c='r')\n",
        "plt.xlabel(r'$f_1$')\n",
        "plt.ylabel(r'$f_2$')\n",
        "plt.grid(True)\n",
        "plt.show()"
      ],
      "execution_count": null,
      "outputs": [
        {
          "output_type": "stream",
          "text": [
            "Fronts: [[3, 4, 6, 7, 8], [2, 5, 9], [1], [0]]\n",
            "Initial Rank: [3 2 1 0 0 1 0 0 0 1]\n"
          ],
          "name": "stdout"
        },
        {
          "output_type": "display_data",
          "data": {
            "image/png": "[encoded data removed]",
            "text/plain": [
              "<Figure size 432x288 with 1 Axes>"
            ]
          },
          "metadata": {
            "tags": [],
            "needs_background": "light"
          }
        }
      ]
    },
    {
      "cell_type": "code",
      "metadata": {
        "id": "Uo90Sdu3KivF",
        "colab": {
          "base_uri": "https://localhost:8080/",
          "height": 371
        },
        "cellView": "form",
        "outputId": "348f536d-d096-4b4b-9328-21015863029f"
      },
      "source": [
        "#@title Crowding Distance\n",
        "def cdist(objval,front,rank):\n",
        "    npop,nobj = objval.shape\n",
        "\n",
        "    nn = len(front)\n",
        "    cd = []\n",
        "    for i in range(nn): \n",
        "        ind_front = front[i]\n",
        "        l = len(ind_front)\n",
        "        distance = np.zeros(l)\n",
        "        for j in range(nobj):\n",
        "            ind = np.argsort(objval[ind_front,j])\n",
        "            fmax = objval[ind_front[ind[l-1]],j]\n",
        "            fmin = objval[ind_front[ind[0]],j]\n",
        "            distance[ind[0]] = np.inf\n",
        "            distance[ind[l-1]] = np.inf\n",
        "            for k in range(1,l-1):\n",
        "                distance[ind[k]] = distance[ind[k]] + (objval[ind_front[ind[k+1]],j]-objval[ind_front[ind[k-1]],j])/(fmax-fmin+1e-20)\n",
        "\n",
        "        cd.append(distance)\n",
        "\n",
        "    rank_with_cd = np.zeros(npop,dtype='int')\n",
        "    start_sort = 0\n",
        "    for i in range(nn): \n",
        "        ind_front = front[i]\n",
        "        l = len(ind_front)\n",
        "        distance = cd[i]\n",
        "        ind_distance_sort = np.argsort(distance)[::-1] #descending\n",
        "        for ii in range(l):\n",
        "            # rank_with_cd[start_sort] = ind_front[ind_distance_sort[ii]]\n",
        "            rank_with_cd[ind_front[ind_distance_sort[ii]]] = start_sort\n",
        "            start_sort = start_sort + 1\n",
        "          \n",
        "    return rank_with_cd,cd\n",
        "\n",
        "rank_with_cd,cd = cdist(objval,front,rank)\n",
        "print('Fronts:',front)\n",
        "print('Initial Rank:',rank)\n",
        "print('Crowding Distance: ',cd)\n",
        "print('Final Rank: ',rank_with_cd)\n",
        "\n",
        "plt.scatter(objval[:,0],objval[:,1],c='b')\n",
        "plt.scatter(objval[front[0],0],objval[front[0],1],c='r')\n",
        "for i,txt in enumerate(cd[0]):\n",
        "    plt.annotate(np.round(txt,2),(objval[front[0][i],0],objval[front[0][i],1]))\n",
        "plt.xlabel(r'$f_1$')\n",
        "plt.ylabel(r'$f_2$')\n",
        "plt.grid(True)\n",
        "plt.show()\n"
      ],
      "execution_count": null,
      "outputs": [
        {
          "output_type": "stream",
          "text": [
            "Fronts: [[3, 4, 6, 7, 8], [2, 5, 9], [1], [0]]\n",
            "Initial Rank: [3 2 1 0 0 1 0 0 0 1]\n",
            "Crowding Distance:  [array([1.23174461,        inf,        inf, 0.76825539, 0.52347868]), array([inf,  2., inf]), array([inf]), array([inf])]\n",
            "Final Rank:  [9 8 6 2 1 7 0 3 4 5]\n"
          ],
          "name": "stdout"
        },
        {
          "output_type": "display_data",
          "data": {
            "image/png": "[encoded data removed]",
            "text/plain": [
              "<Figure size 432x288 with 1 Axes>"
            ]
          },
          "metadata": {
            "tags": [],
            "needs_background": "light"
          }
        }
      ]
    },
    {
      "cell_type": "code",
      "metadata": {
        "id": "DUN_2ssQNGS0",
        "colab": {
          "base_uri": "https://localhost:8080/"
        },
        "cellView": "form",
        "outputId": "12098020-b0e7-41cb-9cd0-3fc3597eaf7d"
      },
      "source": [
        "#@title Calculating Fitness\n",
        "def evaluate_fitval(objval,conval):\n",
        "    npop,ncon = conval.shape\n",
        "    fitval = np.zeros(npop)\n",
        "\n",
        "    # Calculating constraint violation fron constraint values\n",
        "    cv = conval.copy()\n",
        "    cv[cv<0] = 0\n",
        "\n",
        "    Nv = np.sum(cv>0,axis=1,dtype='int')  # counting number of constraints violated for each individual\n",
        "    countfeas = np.sum(Nv==0)             # counting the number of feasible individuals\n",
        "\n",
        "    fitval[:] = objval\n",
        "\n",
        "    return fitval,cv,Nv\n",
        "\n",
        "fitval,cv,Nv = evaluate_fitval(rank_with_cd,conval)\n",
        "print('fitness value:',fitval)\n",
        "print('\\nconstraint violation:',cv)\n",
        "print('\\nnumber of constraints violated:',Nv)\n"
      ],
      "execution_count": null,
      "outputs": [
        {
          "output_type": "stream",
          "text": [
            "fitness value: [9. 8. 6. 2. 1. 7. 0. 3. 4. 5.]\n",
            "\n",
            "constraint violation: [[0.]\n",
            " [0.]\n",
            " [0.]\n",
            " [0.]\n",
            " [0.]\n",
            " [0.]\n",
            " [0.]\n",
            " [0.]\n",
            " [0.]\n",
            " [0.]]\n",
            "\n",
            "number of constraints violated: [0 0 0 0 0 0 0 0 0 0]\n"
          ],
          "name": "stdout"
        }
      ]
    },
    {
      "cell_type": "markdown",
      "metadata": {
        "id": "89_0ZMzsqhuC"
      },
      "source": [
        "---\n",
        "## Parental Selection\n",
        "Parental selection is a process to select some individuals which are fit for mating and producing offspring. Some popular methods are tournament selection and roulette wheel. In this tutorial, we select **binary tournament selection**, which has the following procedure:\n",
        "* select $k=2$ random individuals from the current parent population, and\n",
        "* put the best individual in a matingpool.\n",
        "The procedure stops when there are $N_{pop}$ individuals in the matingpool.\n"
      ]
    },
    {
      "cell_type": "code",
      "metadata": {
        "id": "jBwY9772NGK3",
        "cellView": "form"
      },
      "source": [
        "#@title Parental Selection\n",
        "def create_matingpool(population,fitval):\n",
        "\tnpop,nvar = population.shape\n",
        "\tmatingpool = np.zeros((npop,nvar))\n",
        "\tfor kk in range(npop):\n",
        "\t\tip1 = np.random.randint(npop)\n",
        "\t\tip2 = np.random.randint(npop)\n",
        "\t\tif ip2 == ip1:\n",
        "\t\t\twhile ip2 == ip1:\n",
        "\t\t\t\tip2 = np.random.randint(npop)\n",
        "\t\tFt1 = population[ip1-1,:]\n",
        "\t\tFt2 = population[ip2-1,:]\n",
        "\t\tFit1 = fitval[ip1-1]\n",
        "\t\tFit2 = fitval[ip2-1]\n",
        "\t\tif Fit1 < Fit2:\n",
        "\t\t\tmatingpool[kk,:] = Ft1\n",
        "\t\telse:\n",
        "\t\t\tmatingpool[kk,:] = Ft2\n",
        "\t\n",
        "\treturn matingpool\n",
        "\n",
        "# matingpool = create_matingpool(population,fitval)\n",
        "# print('matingpool:',matingpool)"
      ],
      "execution_count": null,
      "outputs": []
    },
    {
      "cell_type": "markdown",
      "metadata": {
        "id": "tUe7EH8dsKU5"
      },
      "source": [
        "---\n",
        "## Crossover/ Recombination\n",
        "* Crossover/ recombination generates new individuals with better fitness values than the old individuals. \n",
        "* In canonical EA, a pair of parents are usually selected from the mating pool to allow them producing a pair of offspring by a crossover method.\n",
        "*This process is repeated until there is a population of offspring with size of $N_{pop}$. In this tutorial, we utilize **simulated binary crossover (SBX)**. Suppose $\\boldsymbol{x}_1 = \\{x_{1,1},\\ldots,x_{d,1}\\}$ and $\\boldsymbol{x}_2 = \\{x_{1,2},\\ldots,x_{d,2}\\}$ are a pair of parents, SBX generates a pair of offspring $\\boldsymbol{c}_1 = \\{c_{1,1},\\ldots,c_{d,1}\\}$ and $\\boldsymbol{c}_2 = \\{c_{1,2},\\ldots,c_{d,2}\\}$ from $\\boldsymbol{x}_1$ and $\\boldsymbol{x}_2$ with the following expression,\n",
        "$$c_{j,1} = 0.5(x_{j,1}+x_{j,2}-\\overline{\\beta} |x_{j,2}-x_{j,1}|)$$\n",
        "$$c_{j,2} = 0.5(x_{j,1}+x_{j,2}+\\overline{\\beta} |x_{j,2}-x_{j,1}|)$$\n",
        "where\n",
        "$$\n",
        "\t\\overline{\\beta} = \\left\\{\n",
        "\t\\begin{array}{ll}\n",
        "\t(\\alpha u)^{\\frac{1}{\\eta_c+1}}, & \\text{if } u \\leq \\frac{1}{\\alpha}, \\\\\n",
        "\t(\\frac{1}{2-\\alpha u})^{\\frac{1}{\\eta_c+1}}, & \\text{otherwise}.\n",
        "\t\\end{array}\n",
        "\t\\right.\n",
        "$$\n",
        "where $\\alpha = 2-\\beta^{-(\\eta_c+1)}$, and $\\beta$ is calculated as follows,\n",
        "$$\n",
        "\\beta = 1 + \\frac{2}{x_{j,2}-x_{j,1}} \\min(x_{j,1}-x_{j,L},x_{j,U}-x_{j,2}) \\text{.}\n",
        "$$\n",
        "It is assumed that $x_{j,1} < x_{j,2}$ here. The symbols $u$ and $\\eta_c$ denote a random value and distribution index, respectively. Here, we set $\\eta_c=20$ in all experiment.\n",
        "\n",
        "<br><br>\n",
        "**Reference**:\n",
        "Deb, Kalyanmoy, and Ram Bhushan Agrawal. \"Simulated binary crossover for continuous search space.\" Complex systems 9, no. 2 (1995): 115-148."
      ]
    },
    {
      "cell_type": "code",
      "metadata": {
        "cellView": "form",
        "id": "5-ELuTdXNGBg"
      },
      "source": [
        "#@title Crossover\n",
        "def SBX(indi1,indi2,nvar):\n",
        "    nc = 20\n",
        "    c1 = np.zeros(nvar)\n",
        "    c2 = np.zeros(nvar)\n",
        "    count = 0\n",
        "    for i in range(nvar):\n",
        "        nr = np.random.rand()\n",
        "        if nr < 0.5:\n",
        "            u = np.random.rand()\n",
        "            sn = 1e-16\n",
        "            if abs(indi1[i]-indi2[i]) > sn:\n",
        "                if indi1[i] < indi2[i]:\n",
        "                    p1 = indi1[i]\n",
        "                    p2 = indi2[i]\n",
        "                else:\n",
        "                    p1 = indi2[i]\n",
        "                    p2 = indi1[i]\n",
        "                \n",
        "                const1 = p1\n",
        "                const2 = 1-p2\n",
        "                \n",
        "                beta1 = 1 + 2*const1/(p2-p1)\n",
        "                beta2 = 1 + 2*const2/(p2-p1)\n",
        "                alpha1 = 2 - beta1**(-(nc+1))\n",
        "                alpha2 = 2 - beta2**(-(nc+1))\n",
        "                \n",
        "                if u <= (1/alpha1):\n",
        "                    beta_l1 = (alpha1*u)**(1/(nc+1))\n",
        "                else:\n",
        "                    beta_l1 = (1/(2-alpha1*u))**(1/(nc+1))\n",
        "                \n",
        "                c1[i] = 0.5*((p1+p2)-beta_l1*abs(p2-p1))\n",
        "                \n",
        "                if u <= (1/alpha2):\n",
        "                    beta_l2 = (alpha2*u)**(1/(nc+1))\n",
        "                else:\n",
        "                    beta_l2 = (1/(2-alpha2*u))**(1/(nc+1))\n",
        "                \n",
        "                c2[i] = 0.5*((p1+p2)+beta_l2*abs(p2-p1))\n",
        "\n",
        "            else:\n",
        "                c1[i] = indi1[i]\n",
        "                c2[i] = indi2[i]\n",
        "        else:\n",
        "            c1[i] = indi1[i]\n",
        "            c2[i] = indi2[i]\n",
        "        if(c1[i] < 0 or c1[i] > 1) or (c2[i] < 0 or c2[i] > 1):\n",
        "            count = count+1\n",
        "        if(count > 0):\n",
        "            print(count)\n",
        "\n",
        "    c = [c1,c2]\t\t\n",
        "    return c\n",
        "\n",
        "def crossover_process(matingpool,pcross):\n",
        "    npop,nvar = matingpool.shape\n",
        "    population = np.zeros((npop,nvar))\n",
        "    for jj in range(0,npop,2):\n",
        "        idx1 = np.random.randint(npop)\n",
        "        idx2 = np.random.randint(npop)\n",
        "        if idx2 == idx1:\n",
        "            while idx2 == idx1:\n",
        "                idx2 = np.random.randint(npop)\n",
        "        n = np.random.rand()\n",
        "        p1 = matingpool[idx1-1,:]\n",
        "        p2 = matingpool[idx2-1,:]\n",
        "        if(n < pcross):\n",
        "            child = SBX(p1,p2,nvar)\n",
        "            population[jj,:] = child[0]\n",
        "            population[jj+1,:] = child[1]\n",
        "        else:\n",
        "            population[jj,:] = p1\n",
        "            population[jj+1,:] = p2\n",
        "\n",
        "    return population\n",
        "\n",
        "# print('Parent population:',population)\n",
        "# pcross = 0.9\n",
        "# population = crossover_process(matingpool,pcross)\n",
        "# print('\\nOffspring population:',population)\n"
      ],
      "execution_count": null,
      "outputs": []
    },
    {
      "cell_type": "markdown",
      "metadata": {
        "id": "RsE4R9vmsOxt"
      },
      "source": [
        "---\n",
        "## Mutation\n",
        "* Mutation maintains the diversity of the population.\n",
        "* In this tutorial, **polynomial mutation** is utilized, expressed as follows:\n",
        "$$c_{j}^{'} = c_{j} + \\overline{\\delta} (x_{j,U}-x_{j,L})$$\n",
        "where\n",
        "$$\n",
        "\t\\overline{\\delta} = \\left\\{\n",
        "\t\\begin{array}{ll}\n",
        "\t(2u+(1-2u)(1-\\delta)^{\\eta_m+1})^{\\frac{1}{\\eta_m+1}}-1, & \\text{if } u \\leq 0.5, \\\\\n",
        "\t1-(2(1-u)+2(u-0.5)(1-\\delta)^{\\eta_m+1})^{\\frac{1}{\\eta_m+1}}, & \\text{otherwise}.\n",
        "\t\\end{array}\n",
        "\t\\right.\n",
        "$$\n",
        "where $\\eta_m$ denotes the mutation distribution index. Here, we set the distribution index $\\eta_m=20$ for all experiments.\n",
        "\n",
        "<br><br>\n",
        "**Reference**:\n",
        "Deb, Kalyanmoy, and Debayan Deb. \"Analysing mutation schemes for real-parameter genetic algorithms.\" International Journal of Artificial Intelligence and Soft Computing 4, no. 1 (2014): 1-28."
      ]
    },
    {
      "cell_type": "code",
      "metadata": {
        "id": "qBtZ5Bl6NF2u"
      },
      "source": [
        "#@title Mutation\n",
        "def polymut(var,nvar,pmut):\n",
        "\tnm = 20\n",
        "\tmutchrom = var.copy()\n",
        "\tconst = 1/(1+nm)\n",
        "\tfor i in range(nvar):\n",
        "\t\tu = np.random.rand()\n",
        "\t\trn = np.random.rand()\n",
        "\t\tif(rn < pmut):\n",
        "\t\t\tdelta = min(var[i],1-var[i])\n",
        "\t\t\tif(u <= 0.5):\n",
        "\t\t\t\tdelta2 = (2*u+(1-2*u)*(1-delta)**(nm+1))**const - 1\n",
        "\t\t\telse:\n",
        "\t\t\t\tdelta2 = 1 - (2*(1-u)+2*(u-0.5)*(1-delta)**(nm+1))**const\n",
        "\t\t\tmutchrom[i] = mutchrom[i] + delta2\n",
        "\t\tif (mutchrom[i] < 0):\n",
        "\t\t\tmutchrom[i] = 0\n",
        "\t\tif (mutchrom[i] > 1):\n",
        "\t\t\tmutchrom[i] = 1\n",
        "\treturn mutchrom\n",
        "\n",
        "def mutation_process(population,pmut):\n",
        "\tnpop,nvar = population.shape\n",
        "\tpopulation_mut = population.copy()\n",
        "\tfor kk in range(npop):\n",
        "\t\tvar = population[kk,:]\n",
        "\t\tpopulation_mut[kk,:] = polymut(var,nvar,pmut)\n",
        "\t\n",
        "\treturn population_mut\n",
        "\n",
        "# print('Before mutation:',population)\n",
        "# pmut = 0.8\n",
        "# population_mut = mutation_process(population,pmut)\n",
        "# print('\\nAfter mutation:',population_mut)"
      ],
      "execution_count": null,
      "outputs": []
    },
    {
      "cell_type": "markdown",
      "metadata": {
        "id": "FBZmmolVOdmo"
      },
      "source": [
        "---\n",
        "## Environmental Selection: Combining Parent and Child Populations\n",
        "In NSGA-II, elitism is conducted by **combining parent and child populations** so that the current best non-dominated solutions are always preserved in every generation. \n",
        "\n",
        "![picture](https://drive.google.com/uc?export=view&id=1it_w6zCM4CrOeVmgFtOXLHpR3yMTQACv)"
      ]
    },
    {
      "cell_type": "markdown",
      "metadata": {
        "id": "2TCAcA4KsVds"
      },
      "source": [
        "---\n",
        "## Integrated NSGA-II Code\n",
        "Now, we are ready to run the whole NSGA-II code. Let's integrate the functions above and do a test run!\n",
        "\n",
        "The optimization problem can be changed by changing the ```fun_name```. \n",
        "\n",
        "The following cell defines our NSGA-II code:"
      ]
    },
    {
      "cell_type": "code",
      "metadata": {
        "id": "DNYnaP0aNFtP"
      },
      "source": [
        "#@title Integrated NSGA-II\n",
        "def nsga2(fun_name,nvar,nobj,ncon,lb,ub,npop,maxgen,pcross,pmut,cht_type=None):\t\n",
        "\n",
        "    # Obtaining initial parent population (normalized form with value between 0 and 1)\n",
        "    pop_parent = np.random.rand(npop,nvar)\n",
        "      \n",
        "    # Calculating responses (objective and constraint values) of parent population\n",
        "    objval_parent,conval_parent = calc_obj_con(pop_parent,fun_name,nobj,ncon,lb,ub)\n",
        "    \n",
        "    # Non-dominated sorting and crowding distance of parent population\n",
        "    if ncon == 0:\n",
        "        front_parent,rank_parent = fnds(objval_parent,all_front=True)\n",
        "    else:\n",
        "        front_parent,rank_parent = fnds(objval_parent,all_front=True,conval=conval_parent)\n",
        "\n",
        "    rank_with_cd_parent,cd_parent = cdist(objval_parent,front_parent,rank_parent)\n",
        "\n",
        "    # Recording current Pareto-optima solution\n",
        "    pareto_pop = []\n",
        "    pareto_objval = []\n",
        "    pareto_conval = []\n",
        "    pareto_pop.append(pop_parent[front_parent[0],:])\n",
        "    pareto_objval.append(objval_parent[front_parent[0],:])\n",
        "    pareto_conval.append(conval_parent[front_parent[0],:])\n",
        "\n",
        "    # Defining fitness value (can be real values, rank from MCR, etc) of parent poopulation\n",
        "    fitval_parent,cv_parent,Nv_parent = evaluate_fitval(rank_with_cd_parent,conval_parent)\n",
        "\n",
        "    # Generational looping\n",
        "    for gen in range(maxgen):\n",
        "        if gen == 0:\n",
        "            print('currently evaluating gen:',gen)\n",
        "        else:\n",
        "            print('currently evaluating gen:',gen)\n",
        "\n",
        "        # Stopping criterion\n",
        "        if gen == maxgen-1:\n",
        "          break\n",
        "        \n",
        "        # Creating mating pool\n",
        "        matingpool = create_matingpool(pop_parent,fitval_parent)\n",
        "        \n",
        "        # Conducting crossover\n",
        "        pop_child = crossover_process(matingpool,pcross)\n",
        "        \n",
        "        # Conducting mutation\n",
        "        pop_child_mut = mutation_process(pop_child,pmut)\n",
        "\n",
        "        # Calculating responses (objective and constraint values) of child population\n",
        "        objval_child,conval_child = calc_obj_con(pop_child_mut,fun_name,nobj,ncon,lb,ub)\n",
        "\n",
        "        # Combining parent and child population\n",
        "        pop_combined = np.vstack((pop_parent,pop_child_mut))\n",
        "        objval_combined = np.vstack((objval_parent,objval_child))\n",
        "        conval_combined = np.vstack((conval_parent,conval_child))\n",
        "\n",
        "        # Non-dominated sorting and crowding distance of combined population\n",
        "        if ncon == 0:\n",
        "            front_combined,rank_combined = fnds(objval_combined,all_front=True)\n",
        "        else:\n",
        "            front_combined,rank_combined = fnds(objval_combined,all_front=True,conval=conval_combined)\n",
        "\n",
        "        rank_with_cd_combined,cd_combined = cdist(objval_combined,front_combined,rank_combined)\n",
        "        \n",
        "        # Recording current Pareto-optima solution\n",
        "        pareto_pop.append(pop_combined[front_combined[0],:])\n",
        "        pareto_objval.append(objval_combined[front_combined[0],:])\n",
        "        pareto_conval.append(conval_combined[front_combined[0],:])\n",
        "\n",
        "        # Defining fitness value (can be real values, rank from MCR, etc) of combined poopulation\n",
        "        fitval_combined,cv_combined,Nv_combined = evaluate_fitval(rank_with_cd_combined,conval_combined)\n",
        "\n",
        "        # New population\n",
        "        rank_sort = np.argsort(fitval_combined)\n",
        "        pop_parent = pop_combined[rank_sort[:npop],:]\n",
        "        objval_parent = objval_combined[rank_sort[:npop],:]\n",
        "        conval_parent = conval_combined[rank_sort[:npop],:]\n",
        "        fitval_parent = fitval_combined[rank_sort[:npop]]\n",
        "        Nv_parent = Nv_combined[rank_sort[:npop]]\n",
        "\n",
        "        # pop_parent = pop_combined[rank_with_cd_combined[:npop],:]\n",
        "        # objval_parent = objval_combined[rank_with_cd_combined[:npop],:]\n",
        "        # conval_parent = conval_combined[rank_with_cd_combined[:npop],:]\n",
        "        # fitval_parent = fitval_combined[rank_with_cd_combined[:npop]]\n",
        "        # Nv_parent = Nv_combined[rank_with_cd_combined[:npop]]\n",
        "\n",
        "    result = [pareto_objval,pareto_pop,pareto_conval]\n",
        "    return result\n"
      ],
      "execution_count": null,
      "outputs": []
    },
    {
      "cell_type": "markdown",
      "metadata": {
        "id": "vuqxIVPRJBA4"
      },
      "source": [
        "The following cell executes our NSGA-II code:"
      ]
    },
    {
      "cell_type": "code",
      "metadata": {
        "id": "liMAUny8NFiV",
        "colab": {
          "base_uri": "https://localhost:8080/",
          "height": 1000
        },
        "outputId": "f32b7085-61a0-4612-fbe8-dcd5bbafc493"
      },
      "source": [
        "#@title Running NSGA-II\n",
        "#=========================================================================\n",
        "# GA parameters and search space\n",
        "\n",
        "# fun_name = 'ZDT1'\n",
        "fun_name = 'weldedbeam'\n",
        "\n",
        "npop = 100\n",
        "maxgen = 100\n",
        "pcross = 0.9\n",
        "pmut = 0.1\n",
        "\t\n",
        "if fun_name == 'ZDT1':\n",
        "    nvar = 30\n",
        "    nobj = 2\n",
        "    ncon = 0\n",
        "    cht_types = None\n",
        "    lb = 0*np.ones(nvar)\n",
        "    ub = 1*np.ones(nvar)\n",
        "elif fun_name == 'weldedbeam':\n",
        "    nvar = 4\n",
        "    nobj = 2\n",
        "    ncon = 4\n",
        "    lb = np.array([0.125,0.1,0.1,0.125])\n",
        "    ub = np.array([5,10,10,5])\n",
        "\n",
        "# ========================================================================\n",
        "# Optimization - Trial\n",
        "result = nsga2(fun_name,nvar,nobj,ncon,lb,ub,npop,maxgen,pcross,pmut)\n",
        "pareto_objval = result[0]\n",
        "pareto_pop = result[1]\n",
        "pareto_conval = result[2]\n",
        "\n",
        "# print('Pareto-Optima Objective: ',pareto_objval[len(pareto_objval)-1])\n",
        "# print('Pareto-Optima Population: ',pareto_pop[len(pareto_objval)-1])\n",
        "# print('Pareto-Optima Constraint: ',pareto_conval[len(pareto_objval)-1])\n",
        "\n",
        "# ========================================================================\n",
        "# Plotting the convergence performance\n",
        "fig = plt.figure()\n",
        "plt.scatter(pareto_objval[len(pareto_objval)-1][:,0],pareto_objval[len(pareto_objval)-1][:,1],c='r',label='estimated Pareto-optima')\n",
        "# for i in range(len(pareto_objval)):\n",
        "#     if i == 0:\n",
        "#         plt.scatter(pareto_objval[i][:,0],pareto_objval[i][:,1],c='r',label='obtained pareto')\n",
        "#     else:    \n",
        "#         plt.scatter(pareto_objval[i][:,0],pareto_objval[i][:,1],c='r')\n",
        "plt.xlabel(r'$f_1$')\n",
        "plt.ylabel(r'$f_2$')\n",
        "plt.grid()\n",
        "\n",
        "if fun_name == 'ZDT1':\n",
        "    nsol = 101\n",
        "    x = np.zeros((nsol,nvar))\n",
        "    x[:,0] = np.linspace(0,1,nsol,endpoint=True)\n",
        "    f = np.zeros((nsol,nobj))\n",
        "    for i in range(nsol):\n",
        "        f[i,:] = testproblem(x[i,:],nobj,ncon,fun_name)\n",
        "    plt.plot(f[:,0],f[:,1],c='b',label='Pareto-optima')\n",
        "\n",
        "plt.legend()\n",
        "plt.show()"
      ],
      "execution_count": null,
      "outputs": [
        {
          "output_type": "stream",
          "text": [
            "/usr/local/lib/python3.7/dist-packages/ipykernel_launcher.py:4: FutureWarning: elementwise comparison failed; returning scalar instead, but in the future will perform elementwise comparison\n",
            "  after removing the cwd from sys.path.\n",
            "/usr/local/lib/python3.7/dist-packages/ipykernel_launcher.py:22: FutureWarning: elementwise comparison failed; returning scalar instead, but in the future will perform elementwise comparison\n"
          ],
          "name": "stderr"
        },
        {
          "output_type": "stream",
          "text": [
            "currently evaluating gen: 0\n",
            "currently evaluating gen: 1\n",
            "currently evaluating gen: 2\n",
            "currently evaluating gen: 3\n",
            "currently evaluating gen: 4\n",
            "currently evaluating gen: 5\n",
            "currently evaluating gen: 6\n",
            "currently evaluating gen: 7\n",
            "currently evaluating gen: 8\n",
            "currently evaluating gen: 9\n",
            "currently evaluating gen: 10\n",
            "currently evaluating gen: 11\n",
            "currently evaluating gen: 12\n",
            "currently evaluating gen: 13\n",
            "currently evaluating gen: 14\n",
            "currently evaluating gen: 15\n",
            "currently evaluating gen: 16\n",
            "currently evaluating gen: 17\n",
            "currently evaluating gen: 18\n",
            "currently evaluating gen: 19\n",
            "currently evaluating gen: 20\n",
            "currently evaluating gen: 21\n",
            "currently evaluating gen: 22\n",
            "currently evaluating gen: 23\n",
            "currently evaluating gen: 24\n",
            "currently evaluating gen: 25\n",
            "currently evaluating gen: 26\n",
            "currently evaluating gen: 27\n",
            "currently evaluating gen: 28\n",
            "currently evaluating gen: 29\n",
            "currently evaluating gen: 30\n",
            "currently evaluating gen: 31\n",
            "currently evaluating gen: 32\n",
            "currently evaluating gen: 33\n",
            "currently evaluating gen: 34\n",
            "currently evaluating gen: 35\n",
            "currently evaluating gen: 36\n",
            "currently evaluating gen: 37\n",
            "currently evaluating gen: 38\n",
            "currently evaluating gen: 39\n",
            "currently evaluating gen: 40\n",
            "currently evaluating gen: 41\n",
            "currently evaluating gen: 42\n",
            "currently evaluating gen: 43\n",
            "currently evaluating gen: 44\n",
            "currently evaluating gen: 45\n",
            "currently evaluating gen: 46\n",
            "currently evaluating gen: 47\n",
            "currently evaluating gen: 48\n",
            "currently evaluating gen: 49\n",
            "currently evaluating gen: 50\n",
            "currently evaluating gen: 51\n",
            "currently evaluating gen: 52\n",
            "currently evaluating gen: 53\n",
            "currently evaluating gen: 54\n",
            "currently evaluating gen: 55\n",
            "currently evaluating gen: 56\n",
            "currently evaluating gen: 57\n",
            "currently evaluating gen: 58\n",
            "currently evaluating gen: 59\n",
            "currently evaluating gen: 60\n",
            "currently evaluating gen: 61\n",
            "currently evaluating gen: 62\n",
            "currently evaluating gen: 63\n",
            "currently evaluating gen: 64\n",
            "currently evaluating gen: 65\n",
            "currently evaluating gen: 66\n",
            "currently evaluating gen: 67\n",
            "currently evaluating gen: 68\n",
            "currently evaluating gen: 69\n",
            "currently evaluating gen: 70\n",
            "currently evaluating gen: 71\n",
            "currently evaluating gen: 72\n",
            "currently evaluating gen: 73\n",
            "currently evaluating gen: 74\n",
            "currently evaluating gen: 75\n",
            "currently evaluating gen: 76\n",
            "currently evaluating gen: 77\n",
            "currently evaluating gen: 78\n",
            "currently evaluating gen: 79\n",
            "currently evaluating gen: 80\n",
            "currently evaluating gen: 81\n",
            "currently evaluating gen: 82\n",
            "currently evaluating gen: 83\n",
            "currently evaluating gen: 84\n",
            "currently evaluating gen: 85\n",
            "currently evaluating gen: 86\n",
            "currently evaluating gen: 87\n",
            "currently evaluating gen: 88\n",
            "currently evaluating gen: 89\n",
            "currently evaluating gen: 90\n",
            "currently evaluating gen: 91\n",
            "currently evaluating gen: 92\n",
            "currently evaluating gen: 93\n",
            "currently evaluating gen: 94\n",
            "currently evaluating gen: 95\n",
            "currently evaluating gen: 96\n",
            "currently evaluating gen: 97\n",
            "currently evaluating gen: 98\n",
            "currently evaluating gen: 99\n"
          ],
          "name": "stdout"
        },
        {
          "output_type": "display_data",
          "data": {
            "image/png": "[encoded data removed]",
            "text/plain": [
              "<Figure size 432x288 with 1 Axes>"
            ]
          },
          "metadata": {
            "tags": [],
            "needs_background": "light"
          }
        }
      ]
    },
    {
      "cell_type": "markdown",
      "metadata": {
        "id": "Va9yicG7VCbd"
      },
      "source": [
        "---\n",
        "# Performance Assessment: Hypervolume"
      ]
    },
    {
      "cell_type": "markdown",
      "metadata": {
        "id": "ke85fYOuJD_V"
      },
      "source": [
        "In multi-objective optimization, it is important to track the progress and evolution of your non-dominated solutions. This is not a trivial problem since we are monitoring a set of solutions! Fortunately, we have metrics such as hypervolume that we can use to measure the quality of non-dominated solutions. **Remember, the set of solutions that yields the highest hypervolume value is the Pareto optima**. You want to produce a set with a high hypervolume value because it indicates that you are closer to the Pareto optima. Thus, a set of solutions with a high hypervolume value is better than that with a low value. The following cell tracks the evolution of hypervolume for your previous optimization run.\n",
        "\n",
        "**Note:** you need to define a reference point to calculate hypervolume."
      ]
    },
    {
      "cell_type": "code",
      "metadata": {
        "id": "4sQLwGc9WadF",
        "colab": {
          "base_uri": "https://localhost:8080/",
          "height": 300
        },
        "outputId": "9b0c79ca-ec5a-49df-bdf4-c3d7d091d2bb"
      },
      "source": [
        "#@title Hypervolume Calculation\n",
        "if fun_name == 'ZDT1':\n",
        "    ref = np.array([1.1,1.1])\n",
        "elif fun_name == 'weldedbeam':\n",
        "    ref = np.array([40,0.04])\n",
        "\n",
        "hv = get_performance_indicator(\"hv\", ref_point=ref)\n",
        "hv_all = []\n",
        "for i in range(len(pareto_objval)):\n",
        "    pareto = pareto_objval[i]\n",
        "    hv_val = hv.calc(pareto)\n",
        "    #print(i,hv_val)\n",
        "    hv_all.append(hv_val)\n",
        "\n",
        "print('Last Hypervolume: ',hv_all[len(pareto_objval)-1])\n",
        "plt.plot(np.arange(len(pareto_objval)),hv_all)\n",
        "plt.xlabel('Generation')\n",
        "plt.ylabel('Hypervolume')\n",
        "plt.grid(True)\n",
        "plt.show()    "
      ],
      "execution_count": null,
      "outputs": [
        {
          "output_type": "stream",
          "text": [
            "Last Hypervolume:  1.4731979356679201\n"
          ],
          "name": "stdout"
        },
        {
          "output_type": "display_data",
          "data": {
            "image/png": "[encoded data removed]",
            "text/plain": [
              "<Figure size 432x288 with 1 Axes>"
            ]
          },
          "metadata": {
            "tags": [],
            "needs_background": "light"
          }
        }
      ]
    },
    {
      "cell_type": "markdown",
      "metadata": {
        "id": "G9uE-UbjbxTb"
      },
      "source": [
        "---\n",
        "---\n",
        "# Decision Making\n",
        "Decision-making is not really an optimization task per se. However, as a user, you eventually want to pick one interesting solution. We will show this process by using a simple decision-making method. Note that, in practice, a domain expert who thoroughly understands the optimization problem being studied can pick the solution manually by using his/her expertise (e.g. aerospace engineers know which non-dominated solution(s) is/are the most reasonable based on  their understanding of aerodynamic performance, structural strength, and manufacturability)\n",
        "\n",
        "After the final non-dominated solutions (essentially, estimated Pareto optima) are obtained, it is time for the users to extract or pick some interesting solutions. Unless they have any preferences, users can follow the decision-making process as explained in the preceding section:\n",
        "* best $f_{1}$\n",
        "* best $f_{2}$\n",
        "* **compromised solution**\n",
        "\n",
        "Pay attention to the compromised solution. How should we define this? One method is the **knee-point method**, which has the following procedure:\n",
        "* normalize the objective values of the obtained pareto-optima solutions, $f_{norm}=\\frac{f_{pareto}-z_{ideal}}{z_{nadir}-z_{ideal}}$\n",
        "* calculate Manhattan distance (L1 norm) of each solution $i$, $mdist(\\boldsymbol{x}_i)=\\sum_{j=1}^{N_{obj}} f_{norm}^j$, and\n",
        "* set the solution with the lowest Manhattan distance as the compromised solution.\n",
        "\n",
        "Try picking that compromised solution by executing the cell below (just imagine that point as your knee):"
      ]
    },
    {
      "cell_type": "code",
      "metadata": {
        "colab": {
          "base_uri": "https://localhost:8080/",
          "height": 334
        },
        "id": "vJlnH8ZZcBTr",
        "outputId": "c801df42-a1a1-4f2a-d0d9-d79fe6642937"
      },
      "source": [
        "#@title Decision Making\n",
        "pareto_objval = result[0]\n",
        "pareto_pop = result[1]\n",
        "pareto_conval = result[2]\n",
        "\n",
        "last_pareto_objval = pareto_objval[len(pareto_objval)-1]\n",
        "last_pareto_pop = pareto_pop[len(pareto_objval)-1]\n",
        "last_pareto_conval = pareto_conval[len(pareto_objval)-1]\n",
        "\n",
        "# Best f1\n",
        "indmin1 = np.argmin(last_pareto_objval[:,0])\n",
        "best_f1 = last_pareto_objval[indmin1,:]\n",
        "\n",
        "# Best f2\n",
        "indmin2 = np.argmin(last_pareto_objval[:,1])\n",
        "best_f2 = last_pareto_objval[indmin2,:]\n",
        "\n",
        "print('Best f1:',np.around(best_f1,4))\n",
        "print('Best f2:',np.around(best_f2,4))\n",
        "\n",
        "# Compromised solution - Knee Point\n",
        "z_ideal = np.amin(last_pareto_objval,axis=0) # best values of all objective functions\n",
        "z_nadir = np.amax(last_pareto_objval,axis=0) # worst values of all objective functions\n",
        "fnorm = np.divide(last_pareto_objval-z_ideal,z_nadir-z_ideal)\n",
        "\n",
        "# Calculating Manhattan distance (L1 norm)\n",
        "mdist = np.sum(fnorm,axis=1)\n",
        "indmin_mdist = np.argmin(mdist)\n",
        "compromised_f = last_pareto_objval[indmin_mdist,:]\n",
        "print('Compromised solution: ',np.around(compromised_f,4))\n",
        "\n",
        "# Plotting the convergence performance\n",
        "fig = plt.figure()\n",
        "plt.scatter(last_pareto_objval[:,0],last_pareto_objval[:,1],c='r',label='estimated Pareto-optima')\n",
        "plt.scatter(best_f1[0],best_f1[1],label='best f1',c='g',s=100)\n",
        "plt.scatter(best_f2[0],best_f2[1],label='best f2',c='k',s=100)\n",
        "plt.scatter(compromised_f[0],compromised_f[1],label='compromised',c='c',s=100)\n",
        "plt.xlabel(r'$f_1$')\n",
        "plt.ylabel(r'$f_2$')\n",
        "plt.grid()\n",
        "\n",
        "if fun_name == 'ZDT1':\n",
        "    nsol = 101\n",
        "    x = np.zeros((nsol,nvar))\n",
        "    x[:,0] = np.linspace(0,1,nsol,endpoint=True)\n",
        "    f = np.zeros((nsol,nobj))\n",
        "    for i in range(nsol):\n",
        "        f[i,:] = testproblem(x[i,:],nobj,ncon,fun_name)\n",
        "    plt.plot(f[:,0],f[:,1],c='b',label='Pareto-optima')\n",
        "\n",
        "plt.legend()\n",
        "plt.show()\n"
      ],
      "execution_count": null,
      "outputs": [
        {
          "output_type": "stream",
          "text": [
            "Best f1: [1.8292 0.0108]\n",
            "Best f2: [3.61374e+01 4.00000e-04]\n",
            "Compromised solution:  [7.546e+00 2.200e-03]\n"
          ],
          "name": "stdout"
        },
        {
          "output_type": "display_data",
          "data": {
            "image/png": "[encoded data removed]",
            "text/plain": [
              "<Figure size 432x288 with 1 Axes>"
            ]
          },
          "metadata": {
            "tags": [],
            "needs_background": "light"
          }
        }
      ]
    },
    {
      "cell_type": "markdown",
      "metadata": {
        "id": "LZtaGGSlLkuq"
      },
      "source": [
        "**That's all! Thanks for listening**"
      ]
    }
  ]
}